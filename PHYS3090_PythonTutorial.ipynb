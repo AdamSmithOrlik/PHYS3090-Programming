{
 "cells": [
  {
   "cell_type": "markdown",
   "metadata": {},
   "source": [
    "# Python Basics for Physics and Math"
   ]
  },
  {
   "cell_type": "markdown",
   "metadata": {},
   "source": [
    "Motivation: To introduce students to the basic tools of python and jupyter notebooks used for physics and mathematics. \n",
    "\n",
    "Objective: To provide a fairly comprehensive reference guide to using python that will aid and assist students in completing their homework problems. "
   ]
  },
  {
   "cell_type": "markdown",
   "metadata": {},
   "source": [
    "What we **are** going to cover:\n",
    "* Lists, numpy arrays\n",
    "* Functions\n",
    "* Data Handling \n",
    "* Plotting\n",
    "* Examples\n",
    "\n",
    "What we **are not** going to cover:\n",
    "* The absolute basics (if statements, for loops, variables, etc.)\n",
    "* Computer science theory (big o, data types, binary, etc.)\n",
    "* Object-oreinted programming (class structure, inheritance, encapsulation)\n",
    "* Error handling \n",
    "* The answers to your homework problems"
   ]
  },
  {
   "cell_type": "markdown",
   "metadata": {},
   "source": [
    "# Lists and Arrays"
   ]
  },
  {
   "cell_type": "markdown",
   "metadata": {},
   "source": [
    "## Creating"
   ]
  },
  {
   "cell_type": "markdown",
   "metadata": {},
   "source": [
    "For storing, manipulating, and representing data there are four main options in python:\n",
    "1. Lists\n",
    "2. Tuples\n",
    "3. Sets\n",
    "4. Dictionarys \n",
    "\n",
    "Lists are ordered and mutable, tuples are ordered and immutable, sets are unordered and mutable, and dictionaries are ordered and mutable, but contain both keys and values. \n",
    "\n",
    "An example of how to create each:\n",
    "\n"
   ]
  },
  {
   "cell_type": "code",
   "execution_count": 1,
   "metadata": {},
   "outputs": [],
   "source": [
    "ex_list = [1,2,3,3,3,6,7,8,9]\n",
    "ex_tuple = (1,2,3,4,4,4,8,7,8,9)\n",
    "ex_set = set(ex_list)\n",
    "ex_dict = {'key1':1,'key2':2,'key3':ex_list,'key4':ex_set}"
   ]
  },
  {
   "cell_type": "markdown",
   "metadata": {},
   "source": [
    "Each of these data structures has its use, for example tuples are generally faster than lists and sets remove repeated variables which can be used to find unique elements in a list. Dictionaries are particularily useful becasue they allow you to categorize your data by attaching a key to a value. See more here:  https://www.w3schools.com/python/python_dictionaries.asp\n",
    "\n",
    "Although dictionaires are very useful we will not be looking at them here. We will be focusing on lists."
   ]
  },
  {
   "cell_type": "markdown",
   "metadata": {},
   "source": [
    "### Lists"
   ]
  },
  {
   "cell_type": "markdown",
   "metadata": {},
   "source": [
    "Here are some useful ways to create lists:"
   ]
  },
  {
   "cell_type": "code",
   "execution_count": 239,
   "metadata": {},
   "outputs": [],
   "source": [
    "list11= [1,2,3,4,5,6]"
   ]
  },
  {
   "cell_type": "code",
   "execution_count": 2,
   "metadata": {},
   "outputs": [
    {
     "name": "stdout",
     "output_type": "stream",
     "text": [
      "[0, 1, 2, 3, 4, 5, 6, 7, 8, 9]\n"
     ]
    }
   ],
   "source": [
    "# using list function \n",
    "list0 = list(range(10))\n",
    "print(list0)"
   ]
  },
  {
   "cell_type": "code",
   "execution_count": 3,
   "metadata": {},
   "outputs": [
    {
     "name": "stdout",
     "output_type": "stream",
     "text": [
      "[0, 1, 2, 3, 4, 5, 6, 7, 8, 9]\n"
     ]
    }
   ],
   "source": [
    "# in line\n",
    "list1 = [i for i in range(10)]\n",
    "print(list1)"
   ]
  },
  {
   "cell_type": "code",
   "execution_count": 4,
   "metadata": {},
   "outputs": [
    {
     "name": "stdout",
     "output_type": "stream",
     "text": [
      "[0, 5, 10, 15, 20, 25, 30, 35, 40, 45, 50, 55, 60, 65, 70, 75, 80, 85, 90, 95]\n"
     ]
    }
   ],
   "source": [
    "# in line with built-in conditionals \n",
    "list2 = [i for i in range(100) if i%5==0]\n",
    "print(list2)"
   ]
  },
  {
   "cell_type": "code",
   "execution_count": 5,
   "metadata": {},
   "outputs": [
    {
     "name": "stdout",
     "output_type": "stream",
     "text": [
      "[0, 10, 20, 30, 40, 50, 60, 70, 80, 90, 100]\n"
     ]
    }
   ],
   "source": [
    "# for loops \n",
    "list3 = []\n",
    "for i in range(0,100+1,2):\n",
    "    if i%5==0:\n",
    "        list3.append(i)\n",
    "        \n",
    "print(list3)"
   ]
  },
  {
   "cell_type": "markdown",
   "metadata": {},
   "source": [
    "Lists can also be multidimensinal and contain any data type e.g. lists, strings, floats, ints, etc."
   ]
  },
  {
   "cell_type": "code",
   "execution_count": 6,
   "metadata": {},
   "outputs": [
    {
     "name": "stdout",
     "output_type": "stream",
     "text": [
      "[[1, 'dog'], [2, 'cat'], [3, 'fish']]\n"
     ]
    }
   ],
   "source": [
    "list4 = [[1,'dog'],[2,'cat'],[3,'fish']]\n",
    "print(list4)"
   ]
  },
  {
   "cell_type": "markdown",
   "metadata": {},
   "source": [
    "Lists have various methods that give you information about their structure and contents"
   ]
  },
  {
   "cell_type": "code",
   "execution_count": 238,
   "metadata": {},
   "outputs": [
    {
     "name": "stdout",
     "output_type": "stream",
     "text": [
      "[0, 1, 2, 3, 4, 5, 6, 7, 8, 9]\n",
      "Type:  <class 'list'>\n",
      "Length:  10\n",
      "Minimum:  0 , Maximum:  9\n",
      "Count 1:  1\n"
     ]
    }
   ],
   "source": [
    "print(list1)\n",
    "\n",
    "# type \n",
    "print('Type: ', type(list1))\n",
    "\n",
    "# len function to find the length of a list \n",
    "print('Length: ', len(list1))\n",
    "\n",
    "# min and max\n",
    "print('Minimum: ', min(list1), ', Maximum: ', max(list1))\n",
    "\n",
    "# number of time 1 appears \n",
    "print('Count 1: ', list1.count(1))"
   ]
  },
  {
   "cell_type": "markdown",
   "metadata": {},
   "source": [
    "List also has a reverse and sort method"
   ]
  },
  {
   "cell_type": "code",
   "execution_count": 8,
   "metadata": {},
   "outputs": [
    {
     "name": "stdout",
     "output_type": "stream",
     "text": [
      "[9, 8, 7, 6, 5, 4, 3, 2, 1, 0]\n"
     ]
    }
   ],
   "source": [
    "list1.reverse()\n",
    "print(list1)"
   ]
  },
  {
   "cell_type": "code",
   "execution_count": 9,
   "metadata": {},
   "outputs": [
    {
     "data": {
      "text/plain": [
       "[0, 1, 2, 3, 4, 5, 6, 7, 8, 9]"
      ]
     },
     "execution_count": 9,
     "metadata": {},
     "output_type": "execute_result"
    }
   ],
   "source": [
    "list1.sort()\n",
    "list1"
   ]
  },
  {
   "cell_type": "markdown",
   "metadata": {},
   "source": [
    "For more functions see: https://www.w3schools.com/python/python_lists_methods.asp"
   ]
  },
  {
   "cell_type": "markdown",
   "metadata": {},
   "source": [
    "### Numpy Arrays"
   ]
  },
  {
   "cell_type": "markdown",
   "metadata": {},
   "source": [
    "There is also another useful data structure that is provided by the numpy package called ndarrays. Numpy arrays are similar to lists but they are immutable. The reason for using them is that they use less memory than lists, are much faster to operate on, and are optimized for science application like linear algebra and calculus. "
   ]
  },
  {
   "cell_type": "code",
   "execution_count": 10,
   "metadata": {},
   "outputs": [],
   "source": [
    "import numpy as np"
   ]
  },
  {
   "cell_type": "code",
   "execution_count": 11,
   "metadata": {},
   "outputs": [
    {
     "name": "stdout",
     "output_type": "stream",
     "text": [
      "[1 2 3 4 4 4 5 6]\n"
     ]
    }
   ],
   "source": [
    "# using np.array\n",
    "nplist1 = np.array([1,2,3,4,4,4,5,6])\n",
    "print(nplist1)"
   ]
  },
  {
   "cell_type": "code",
   "execution_count": 12,
   "metadata": {},
   "outputs": [
    {
     "name": "stdout",
     "output_type": "stream",
     "text": [
      "[0 1 2 3 4 5 6 7 8 9]\n"
     ]
    }
   ],
   "source": [
    "# in line \n",
    "nplist2 = np.array([i for i in np.arange(10)]) # note np.arange, not range()\n",
    "print(nplist2)"
   ]
  },
  {
   "cell_type": "code",
   "execution_count": 13,
   "metadata": {},
   "outputs": [
    {
     "name": "stdout",
     "output_type": "stream",
     "text": [
      "[  0  10  20  30  40  50  60  70  80  90 100]\n"
     ]
    }
   ],
   "source": [
    "# can convert a python list to an nndarray\n",
    "nplist3 = np.array(list3)\n",
    "print(nplist3)"
   ]
  },
  {
   "cell_type": "markdown",
   "metadata": {},
   "source": [
    "Becasue numpy arrays are immutable it often makes sense to define them with dumby variables, for example"
   ]
  },
  {
   "cell_type": "code",
   "execution_count": 14,
   "metadata": {},
   "outputs": [
    {
     "name": "stdout",
     "output_type": "stream",
     "text": [
      "1x2 empty\n",
      "[[-5.73021895e-300 -2.00000000e+000]]\n",
      "2x2 of 1's\n",
      "[[1. 1.]\n",
      " [1. 1.]]\n",
      "3 2x2 of 0's\n",
      "[[[0. 0.]\n",
      "  [0. 0.]]\n",
      "\n",
      " [[0. 0.]\n",
      "  [0. 0.]]\n",
      "\n",
      " [[0. 0.]\n",
      "  [0. 0.]]]\n",
      "2x2 of 7's\n",
      "[[7 7]\n",
      " [7 7]]\n",
      "2x2 identity\n",
      "[[1. 0.]\n",
      " [0. 1.]]\n"
     ]
    }
   ],
   "source": [
    "print('1x2 empty')\n",
    "nplist4 = np.empty((1,2))\n",
    "print(nplist4)\n",
    "\n",
    "print('2x2 of 1\\'s')\n",
    "nplist5 = np.ones((2,2))\n",
    "print(nplist5)\n",
    "\n",
    "print('3 2x2 of 0\\'s')\n",
    "nplist6 = np.zeros((3,2,2))\n",
    "print(nplist6)\n",
    "\n",
    "print('2x2 of 7\\'s')\n",
    "nplist7 = np.full((2,2),7)\n",
    "print(nplist7)\n",
    "\n",
    "print('2x2 identity')\n",
    "nplist8 = np.identity(2)\n",
    "print(nplist8)"
   ]
  },
  {
   "cell_type": "markdown",
   "metadata": {},
   "source": [
    "Can assign each element of the array usuing the equals operator "
   ]
  },
  {
   "cell_type": "code",
   "execution_count": 15,
   "metadata": {},
   "outputs": [
    {
     "data": {
      "text/plain": [
       "array([[4., 3.],\n",
       "       [2., 1.]])"
      ]
     },
     "execution_count": 15,
     "metadata": {},
     "output_type": "execute_result"
    }
   ],
   "source": [
    "nplist5[0][0]=4\n",
    "nplist5[0][1]=3\n",
    "nplist5[1][0]=2\n",
    "nplist5[1][1]=1\n",
    "nplist5"
   ]
  },
  {
   "cell_type": "code",
   "execution_count": 16,
   "metadata": {},
   "outputs": [
    {
     "name": "stdout",
     "output_type": "stream",
     "text": [
      "[0 1 2 3 4 5 6 7 8 9]\n",
      "[  0.          11.11111111  22.22222222  33.33333333  44.44444444\n",
      "  55.55555556  66.66666667  77.77777778  88.88888889 100.        ]\n",
      "[  1.           1.66810054   2.7825594    4.64158883   7.74263683\n",
      "  12.91549665  21.5443469   35.93813664  59.94842503 100.        ]\n",
      "[1.00000000e+00 1.29154967e+01 1.66810054e+02 2.15443469e+03\n",
      " 2.78255940e+04 3.59381366e+05 4.64158883e+06 5.99484250e+07\n",
      " 7.74263683e+08 1.00000000e+10]\n"
     ]
    }
   ],
   "source": [
    "# using arange, linspace, logspace, etc.\n",
    "nplist9 = np.arange(10)\n",
    "print(nplist9)\n",
    "\n",
    "nplist10 = np.linspace(0,100,10)\n",
    "print(nplist10)\n",
    "\n",
    "nplist11 = np.geomspace(1,100,10)\n",
    "print(nplist11)\n",
    "\n",
    "nplist12 = np.logspace(0,10,10)\n",
    "print(nplist12)"
   ]
  },
  {
   "cell_type": "markdown",
   "metadata": {},
   "source": [
    "Numpy arrays come with more function than I can list, here are some"
   ]
  },
  {
   "cell_type": "code",
   "execution_count": 17,
   "metadata": {},
   "outputs": [
    {
     "name": "stdout",
     "output_type": "stream",
     "text": [
      "float64\n",
      "(2, 2)\n",
      "[1. 2. 3. 4.]\n",
      "[4. 3. 2. 1.]\n",
      "[[4. 3.]\n",
      " [2. 1.]]\n",
      "Min/Max:  0 9\n",
      "Min/Max indices:  0 9\n"
     ]
    }
   ],
   "source": [
    "print(nplist5.dtype)\n",
    "print(np.shape(nplist5))\n",
    "print(np.unique(nplist5))\n",
    "print(nplist5.flatten())\n",
    "print(nplist5.reshape(2,2))\n",
    "print('Min/Max: ', min(nplist2), max(nplist2))\n",
    "print('Min/Max indices: ', np.argmin(nplist2), np.argmax(nplist2))"
   ]
  },
  {
   "cell_type": "markdown",
   "metadata": {},
   "source": [
    "For a full list of functions and methods see: https://numpy.org/doc/stable/reference/routines.array-manipulation.html"
   ]
  },
  {
   "cell_type": "markdown",
   "metadata": {},
   "source": [
    "## Slicing "
   ]
  },
  {
   "cell_type": "markdown",
   "metadata": {},
   "source": [
    "In many cases you want to parse through the elements in your list or array. Slicing is a very powerful tool that allows you to do that "
   ]
  },
  {
   "cell_type": "code",
   "execution_count": 18,
   "metadata": {},
   "outputs": [
    {
     "name": "stdout",
     "output_type": "stream",
     "text": [
      "[[1, 2, 3], [4, 5, 6], [7, 8, 9]]\n",
      "\n",
      "[[1 2 3]\n",
      " [4 5 6]\n",
      " [7 8 9]]\n"
     ]
    }
   ],
   "source": [
    "l = [[1,2,3],[4,5,6],[7,8,9]]\n",
    "print(l)\n",
    "print()\n",
    "a = np.array(l)\n",
    "print(a)"
   ]
  },
  {
   "cell_type": "markdown",
   "metadata": {},
   "source": [
    "If we know the indicies of the element we want we can use the standard row column convention to acces it "
   ]
  },
  {
   "cell_type": "code",
   "execution_count": 19,
   "metadata": {},
   "outputs": [
    {
     "name": "stdout",
     "output_type": "stream",
     "text": [
      "3\n",
      "3\n"
     ]
    }
   ],
   "source": [
    "print(l[0][2])\n",
    "print(a[0][2])"
   ]
  },
  {
   "cell_type": "markdown",
   "metadata": {},
   "source": [
    "Or we can use : to slice the list or array "
   ]
  },
  {
   "cell_type": "code",
   "execution_count": 20,
   "metadata": {},
   "outputs": [
    {
     "name": "stdout",
     "output_type": "stream",
     "text": [
      "[3 4]\n",
      "[0 2 4 6 8]\n",
      "[9 8 7 6 5 4 3 2 1]\n",
      "[95, 90, 85, 80, 75, 70, 65, 60, 55, 50, 45, 40, 35, 30, 25, 20, 15, 10, 5, 0]\n"
     ]
    }
   ],
   "source": [
    "# start, stop, step \n",
    "print(nplist1[2:4:1])\n",
    "\n",
    "# start, increase by\n",
    "print(nplist2[0::2])\n",
    "\n",
    "# traverse backwards \n",
    "print(nplist2[-1:0:-1])\n",
    "\n",
    "# reverse list \n",
    "print(list2[::-1])"
   ]
  },
  {
   "cell_type": "markdown",
   "metadata": {},
   "source": [
    "## Maniupulation"
   ]
  },
  {
   "cell_type": "markdown",
   "metadata": {},
   "source": [
    "There are many things you might wish to do with an array once it's created and numpy provides the entire corpus of numerical routines that you can apply to whole arrays or individual values thereof"
   ]
  },
  {
   "cell_type": "code",
   "execution_count": 21,
   "metadata": {},
   "outputs": [
    {
     "data": {
      "text/plain": [
       "array([ 0.        , -0.54402111,  0.91294525, -0.98803162,  0.74511316,\n",
       "       -0.26237485, -0.30481062,  0.77389068, -0.99388865,  0.89399666,\n",
       "       -0.50636564])"
      ]
     },
     "execution_count": 21,
     "metadata": {},
     "output_type": "execute_result"
    }
   ],
   "source": [
    "# take the sin of an entire array\n",
    "np.sin(nplist3)"
   ]
  },
  {
   "cell_type": "code",
   "execution_count": 22,
   "metadata": {},
   "outputs": [
    {
     "data": {
      "text/plain": [
       "array([3.14159265, 3.98306364, 4.05089008, 3.28271266, 2.38479016,\n",
       "       2.18266838, 2.86217716, 3.79857925, 4.1309509 , 3.55371114])"
      ]
     },
     "execution_count": 22,
     "metadata": {},
     "output_type": "execute_result"
    }
   ],
   "source": [
    "# doing this to a list converts the list to a numpy array \n",
    "np.sin(list1) + np.pi"
   ]
  },
  {
   "cell_type": "code",
   "execution_count": 23,
   "metadata": {},
   "outputs": [
    {
     "data": {
      "text/plain": [
       "array([ 0., -1.,  1., -1.,  1., -0., -0.,  1., -1.,  1., -1.])"
      ]
     },
     "execution_count": 23,
     "metadata": {},
     "output_type": "execute_result"
    }
   ],
   "source": [
    "# can apply multiple functions to one list or array \n",
    "np.round(np.sin(nplist3)) "
   ]
  },
  {
   "cell_type": "code",
   "execution_count": 24,
   "metadata": {},
   "outputs": [
    {
     "data": {
      "text/plain": [
       "550"
      ]
     },
     "execution_count": 24,
     "metadata": {},
     "output_type": "execute_result"
    }
   ],
   "source": [
    "# summation of an arrays elements \n",
    "np.sum(nplist3)"
   ]
  },
  {
   "cell_type": "markdown",
   "metadata": {},
   "source": [
    "Some other functions include: sqaure, absolute, sqrt, maximum, minimum, mod, etc. \n",
    "\n",
    "See: https://numpy.org/doc/stable/reference/routines.math.html"
   ]
  },
  {
   "cell_type": "markdown",
   "metadata": {},
   "source": [
    "Adding lists or arrays "
   ]
  },
  {
   "cell_type": "code",
   "execution_count": 25,
   "metadata": {},
   "outputs": [
    {
     "name": "stdout",
     "output_type": "stream",
     "text": [
      "[0, 1, 2, 3, 4, 5, 6, 7, 8, 9, 0, 5, 10, 15, 20, 25, 30, 35, 40, 45, 50, 55, 60, 65, 70, 75, 80, 85, 90, 95]\n"
     ]
    }
   ],
   "source": [
    "# can add two lists \n",
    "print(list1+list2)"
   ]
  },
  {
   "cell_type": "code",
   "execution_count": 26,
   "metadata": {},
   "outputs": [
    {
     "ename": "ValueError",
     "evalue": "operands could not be broadcast together with shapes (8,) (10,) ",
     "output_type": "error",
     "traceback": [
      "\u001b[0;31m---------------------------------------------------------------------------\u001b[0m",
      "\u001b[0;31mValueError\u001b[0m                                Traceback (most recent call last)",
      "\u001b[0;32m<ipython-input-26-4942ac9a507b>\u001b[0m in \u001b[0;36m<module>\u001b[0;34m\u001b[0m\n\u001b[1;32m      1\u001b[0m \u001b[0;31m# cannot add two arrays directly\u001b[0m\u001b[0;34m\u001b[0m\u001b[0;34m\u001b[0m\u001b[0;34m\u001b[0m\u001b[0m\n\u001b[0;32m----> 2\u001b[0;31m \u001b[0mnplist1\u001b[0m\u001b[0;34m+\u001b[0m\u001b[0mnplist2\u001b[0m\u001b[0;34m\u001b[0m\u001b[0;34m\u001b[0m\u001b[0m\n\u001b[0m",
      "\u001b[0;31mValueError\u001b[0m: operands could not be broadcast together with shapes (8,) (10,) "
     ]
    }
   ],
   "source": [
    "# cannot add two arrays directly \n",
    "nplist1+nplist2"
   ]
  },
  {
   "cell_type": "code",
   "execution_count": 27,
   "metadata": {},
   "outputs": [
    {
     "data": {
      "text/plain": [
       "array([1, 2, 3, 4, 4, 4, 5, 6, 0, 1, 2, 3, 4, 5, 6, 7, 8, 9])"
      ]
     },
     "execution_count": 27,
     "metadata": {},
     "output_type": "execute_result"
    }
   ],
   "source": [
    "# instead use concatenate \n",
    "np.concatenate((nplist1, nplist2), axis=0)\n",
    "# good practice to specify axis, or row"
   ]
  },
  {
   "cell_type": "code",
   "execution_count": 28,
   "metadata": {},
   "outputs": [
    {
     "name": "stdout",
     "output_type": "stream",
     "text": [
      "axis=0\n",
      "[[1 2 3]\n",
      " [4 5 6]\n",
      " [7 8 9]\n",
      " [9 8 7]\n",
      " [6 5 4]\n",
      " [3 2 1]]\n",
      "axis=1\n",
      "[[1 2 3 9 8 7]\n",
      " [4 5 6 6 5 4]\n",
      " [7 8 9 3 2 1]]\n"
     ]
    }
   ],
   "source": [
    "b = np.array([[9,8,7],[6,5,4],[3,2,1]])\n",
    "print('axis=0')\n",
    "print(np.concatenate((a,b), axis=0))\n",
    "print('axis=1')\n",
    "print(np.concatenate((a,b), axis=1))"
   ]
  },
  {
   "cell_type": "markdown",
   "metadata": {},
   "source": [
    "Lastly linear algebra routines on matrices"
   ]
  },
  {
   "cell_type": "code",
   "execution_count": 29,
   "metadata": {},
   "outputs": [
    {
     "name": "stdout",
     "output_type": "stream",
     "text": [
      "Matrix\n",
      "[[1 2 4]\n",
      " [3 5 7]\n",
      " [6 8 9]]\n",
      "Transpose\n",
      "[[1 3 6]\n",
      " [2 5 8]\n",
      " [4 7 9]]\n",
      "Determinant\n",
      "-4.999999999999998\n",
      "Inverse\n",
      "[[ 2.2 -2.8  1.2]\n",
      " [-3.   3.  -1. ]\n",
      " [ 1.2 -0.8  0.2]]\n",
      "Trace\n",
      "15\n",
      "Norm\n",
      "16.881943016134134\n",
      "Eigenvalues\n",
      "[16.60763051 -1.77704976  0.16941924]\n"
     ]
    }
   ],
   "source": [
    "mat = np.array([[1,2,4],[3,5,7],[6,8,9]])\n",
    "print('Matrix')\n",
    "print(mat)\n",
    "\n",
    "print('Transpose')\n",
    "print(mat.T)\n",
    "\n",
    "print('Determinant')\n",
    "print(np.linalg.det(mat))\n",
    "\n",
    "print('Inverse')\n",
    "print(np.linalg.inv(mat))\n",
    "\n",
    "print(\"Trace\")\n",
    "print(np.trace(mat))\n",
    "\n",
    "print('Norm')\n",
    "print(np.linalg.norm(mat))\n",
    "\n",
    "print('Eigenvalues')\n",
    "print(np.linalg.eigvals(mat))"
   ]
  },
  {
   "cell_type": "markdown",
   "metadata": {},
   "source": [
    "To see more visit: https://numpy.org/doc/stable/reference/routines.linalg.html"
   ]
  },
  {
   "cell_type": "markdown",
   "metadata": {},
   "source": [
    "## Comprehensions"
   ]
  },
  {
   "cell_type": "markdown",
   "metadata": {},
   "source": [
    "Comprehension refers to conditionals that are 'inline', just like how we defnined lists with conditions earlier. Here is an example of when one would want to use list comprehension"
   ]
  },
  {
   "cell_type": "code",
   "execution_count": 30,
   "metadata": {},
   "outputs": [],
   "source": [
    "# EX) find the complement of two lists\n",
    "l1 = [i for i in range(0,1000,3)]\n",
    "l2 = [i for i in range(0,1000,6)]"
   ]
  },
  {
   "cell_type": "code",
   "execution_count": 31,
   "metadata": {},
   "outputs": [
    {
     "name": "stdout",
     "output_type": "stream",
     "text": [
      "[3, 9, 15, 21, 27, 33, 39, 45, 51, 57, 63, 69, 75, 81, 87, 93, 99, 105, 111, 117, 123, 129, 135, 141, 147, 153, 159, 165, 171, 177, 183, 189, 195, 201, 207, 213, 219, 225, 231, 237, 243, 249, 255, 261, 267, 273, 279, 285, 291, 297, 303, 309, 315, 321, 327, 333, 339, 345, 351, 357, 363, 369, 375, 381, 387, 393, 399, 405, 411, 417, 423, 429, 435, 441, 447, 453, 459, 465, 471, 477, 483, 489, 495, 501, 507, 513, 519, 525, 531, 537, 543, 549, 555, 561, 567, 573, 579, 585, 591, 597, 603, 609, 615, 621, 627, 633, 639, 645, 651, 657, 663, 669, 675, 681, 687, 693, 699, 705, 711, 717, 723, 729, 735, 741, 747, 753, 759, 765, 771, 777, 783, 789, 795, 801, 807, 813, 819, 825, 831, 837, 843, 849, 855, 861, 867, 873, 879, 885, 891, 897, 903, 909, 915, 921, 927, 933, 939, 945, 951, 957, 963, 969, 975, 981, 987, 993, 999]\n",
      "Time:  0.011781930923461914\n"
     ]
    }
   ],
   "source": [
    "# bad way\n",
    "import time as t\n",
    "\n",
    "start = t.time()\n",
    "complement_bad = []\n",
    "\n",
    "for i in range(len(l1)):\n",
    "    n = 0\n",
    "    for j in range(len(l2)):\n",
    "        if l2[j]==l1[i]:\n",
    "            n+=1\n",
    "    if n < 1:\n",
    "        complement_bad.append(l1[i])\n",
    "end = t.time()\n",
    "print(complement_bad)\n",
    "print('Time: ', end-start)"
   ]
  },
  {
   "cell_type": "code",
   "execution_count": 32,
   "metadata": {},
   "outputs": [
    {
     "name": "stdout",
     "output_type": "stream",
     "text": [
      "[3, 9, 15, 21, 27, 33, 39, 45, 51, 57, 63, 69, 75, 81, 87, 93, 99, 105, 111, 117, 123, 129, 135, 141, 147, 153, 159, 165, 171, 177, 183, 189, 195, 201, 207, 213, 219, 225, 231, 237, 243, 249, 255, 261, 267, 273, 279, 285, 291, 297, 303, 309, 315, 321, 327, 333, 339, 345, 351, 357, 363, 369, 375, 381, 387, 393, 399, 405, 411, 417, 423, 429, 435, 441, 447, 453, 459, 465, 471, 477, 483, 489, 495, 501, 507, 513, 519, 525, 531, 537, 543, 549, 555, 561, 567, 573, 579, 585, 591, 597, 603, 609, 615, 621, 627, 633, 639, 645, 651, 657, 663, 669, 675, 681, 687, 693, 699, 705, 711, 717, 723, 729, 735, 741, 747, 753, 759, 765, 771, 777, 783, 789, 795, 801, 807, 813, 819, 825, 831, 837, 843, 849, 855, 861, 867, 873, 879, 885, 891, 897, 903, 909, 915, 921, 927, 933, 939, 945, 951, 957, 963, 969, 975, 981, 987, 993, 999]\n",
      "Time:  0.0007579326629638672\n"
     ]
    }
   ],
   "source": [
    "# using list comprehension\n",
    "start = t.time()\n",
    "complement = [x for x in l1 if x not in l2]\n",
    "end = t.time()\n",
    "print(complement)\n",
    "print('Time: ', end-start)"
   ]
  },
  {
   "cell_type": "code",
   "execution_count": 33,
   "metadata": {},
   "outputs": [
    {
     "data": {
      "text/plain": [
       "16.048150322959483"
      ]
     },
     "execution_count": 33,
     "metadata": {},
     "output_type": "execute_result"
    }
   ],
   "source": [
    "0.013031959533691406/0.0008120536804199219"
   ]
  },
  {
   "cell_type": "markdown",
   "metadata": {},
   "source": [
    "For more see: https://www.w3schools.com/python/python_lists_comprehension.asp"
   ]
  },
  {
   "cell_type": "markdown",
   "metadata": {},
   "source": [
    "# Functions"
   ]
  },
  {
   "cell_type": "markdown",
   "metadata": {},
   "source": [
    "Functions allow you to modularize repeated tasks and map inputs to outputs in the form y = f(x) \n",
    "\n",
    "Functions are incredibly powerful tools especially when used in combination"
   ]
  },
  {
   "cell_type": "code",
   "execution_count": 34,
   "metadata": {},
   "outputs": [
    {
     "name": "stdout",
     "output_type": "stream",
     "text": [
      "4\n"
     ]
    }
   ],
   "source": [
    "# format: def and return \n",
    "def f(x):\n",
    "    return x**2\n",
    "print(f(2))"
   ]
  },
  {
   "cell_type": "markdown",
   "metadata": {},
   "source": [
    "Say you want to apply a function to a list of values..."
   ]
  },
  {
   "cell_type": "code",
   "execution_count": 35,
   "metadata": {},
   "outputs": [
    {
     "ename": "TypeError",
     "evalue": "unsupported operand type(s) for ** or pow(): 'list' and 'int'",
     "output_type": "error",
     "traceback": [
      "\u001b[0;31m---------------------------------------------------------------------------\u001b[0m",
      "\u001b[0;31mTypeError\u001b[0m                                 Traceback (most recent call last)",
      "\u001b[0;32m<ipython-input-35-24003ba55fee>\u001b[0m in \u001b[0;36m<module>\u001b[0;34m\u001b[0m\n\u001b[1;32m      2\u001b[0m \u001b[0ml3\u001b[0m \u001b[0;34m=\u001b[0m \u001b[0;34m[\u001b[0m\u001b[0;36m1\u001b[0m\u001b[0;34m,\u001b[0m\u001b[0;36m2\u001b[0m\u001b[0;34m,\u001b[0m\u001b[0;36m3\u001b[0m\u001b[0;34m,\u001b[0m\u001b[0;36m4\u001b[0m\u001b[0;34m,\u001b[0m\u001b[0;36m5\u001b[0m\u001b[0;34m,\u001b[0m\u001b[0;36m6\u001b[0m\u001b[0;34m]\u001b[0m\u001b[0;34m\u001b[0m\u001b[0;34m\u001b[0m\u001b[0m\n\u001b[1;32m      3\u001b[0m \u001b[0;34m\u001b[0m\u001b[0m\n\u001b[0;32m----> 4\u001b[0;31m \u001b[0mf\u001b[0m\u001b[0;34m(\u001b[0m\u001b[0ml3\u001b[0m\u001b[0;34m)\u001b[0m\u001b[0;34m\u001b[0m\u001b[0;34m\u001b[0m\u001b[0m\n\u001b[0m",
      "\u001b[0;32m<ipython-input-34-0920d06185de>\u001b[0m in \u001b[0;36mf\u001b[0;34m(x)\u001b[0m\n\u001b[1;32m      1\u001b[0m \u001b[0;31m# format: def and return\u001b[0m\u001b[0;34m\u001b[0m\u001b[0;34m\u001b[0m\u001b[0;34m\u001b[0m\u001b[0m\n\u001b[1;32m      2\u001b[0m \u001b[0;32mdef\u001b[0m \u001b[0mf\u001b[0m\u001b[0;34m(\u001b[0m\u001b[0mx\u001b[0m\u001b[0;34m)\u001b[0m\u001b[0;34m:\u001b[0m\u001b[0;34m\u001b[0m\u001b[0;34m\u001b[0m\u001b[0m\n\u001b[0;32m----> 3\u001b[0;31m     \u001b[0;32mreturn\u001b[0m \u001b[0mx\u001b[0m\u001b[0;34m**\u001b[0m\u001b[0;36m2\u001b[0m\u001b[0;34m\u001b[0m\u001b[0;34m\u001b[0m\u001b[0m\n\u001b[0m\u001b[1;32m      4\u001b[0m \u001b[0mprint\u001b[0m\u001b[0;34m(\u001b[0m\u001b[0mf\u001b[0m\u001b[0;34m(\u001b[0m\u001b[0;36m2\u001b[0m\u001b[0;34m)\u001b[0m\u001b[0;34m)\u001b[0m\u001b[0;34m\u001b[0m\u001b[0;34m\u001b[0m\u001b[0m\n",
      "\u001b[0;31mTypeError\u001b[0m: unsupported operand type(s) for ** or pow(): 'list' and 'int'"
     ]
    }
   ],
   "source": [
    "# cant do it this way\n",
    "l3 = [1,2,3,4,5,6]\n",
    "\n",
    "f(l3)"
   ]
  },
  {
   "cell_type": "code",
   "execution_count": 240,
   "metadata": {},
   "outputs": [
    {
     "name": "stdout",
     "output_type": "stream",
     "text": [
      "0 1\n",
      "1 2\n",
      "2 3\n",
      "3 4\n",
      "4 5\n",
      "5 6\n",
      "[1, 4, 9, 16, 25, 36]\n"
     ]
    }
   ],
   "source": [
    "for i,j in enumerate(l3):\n",
    "    print(i,j)\n",
    "    l3[i] = f(j)\n",
    "    \n",
    "print(l3)"
   ]
  },
  {
   "cell_type": "code",
   "execution_count": 37,
   "metadata": {},
   "outputs": [
    {
     "name": "stdout",
     "output_type": "stream",
     "text": [
      "[1, 4, 9, 16, 25, 36]\n"
     ]
    }
   ],
   "source": [
    "l3 = [1,2,3,4,5,6]\n",
    "\n",
    "l4 = list(map(f, l3))\n",
    "\n",
    "print(l4)"
   ]
  },
  {
   "cell_type": "markdown",
   "metadata": {},
   "source": [
    "Functions can have any number of inputs with any data type, and they can also return multiple outputs"
   ]
  },
  {
   "cell_type": "code",
   "execution_count": 38,
   "metadata": {},
   "outputs": [
    {
     "data": {
      "text/plain": [
       "[6, 6, 4]"
      ]
     },
     "execution_count": 38,
     "metadata": {},
     "output_type": "execute_result"
    }
   ],
   "source": [
    "# *args allows an arbitrary number of inputs\n",
    "def divisible_by(n, *args):\n",
    "    div = []\n",
    "    for arg in args:\n",
    "        if arg%n==0:\n",
    "            div.append(arg)\n",
    "    return div\n",
    "\n",
    "divisible_by(2,6,6,9,9,9,4)"
   ]
  },
  {
   "cell_type": "markdown",
   "metadata": {},
   "source": [
    "Lambda expressions are anonymous functions which add another degree of freedom, for example "
   ]
  },
  {
   "cell_type": "code",
   "execution_count": 242,
   "metadata": {},
   "outputs": [
    {
     "name": "stdout",
     "output_type": "stream",
     "text": [
      "<function flexible_multiplier.<locals>.<lambda> at 0x7fcb53f080e0>\n"
     ]
    }
   ],
   "source": [
    "def flexible_multiplier(n):\n",
    "    return lambda x: x * n \n",
    "\n",
    "print(flexible_multiplier(2))"
   ]
  },
  {
   "cell_type": "markdown",
   "metadata": {},
   "source": [
    "Notice flexible_multiplier is now a function, and doesnt return an output. To get an ouput we can define a new function or subscript it directly "
   ]
  },
  {
   "cell_type": "code",
   "execution_count": 40,
   "metadata": {},
   "outputs": [
    {
     "name": "stdout",
     "output_type": "stream",
     "text": [
      "20\n",
      "20\n"
     ]
    }
   ],
   "source": [
    "times2 = flexible_multiplier(2)\n",
    "\n",
    "print(times2(10))\n",
    "\n",
    "# or directly \n",
    "print(flexible_multiplier(2)(10))"
   ]
  },
  {
   "cell_type": "markdown",
   "metadata": {},
   "source": [
    "You can also use lambda if you only need a single use function, i.e."
   ]
  },
  {
   "cell_type": "code",
   "execution_count": 41,
   "metadata": {},
   "outputs": [
    {
     "data": {
      "text/plain": [
       "[1, 4, 9, 16, 25, 36]"
      ]
     },
     "execution_count": 41,
     "metadata": {},
     "output_type": "execute_result"
    }
   ],
   "source": [
    "list(map(lambda x: x**2, l3))"
   ]
  },
  {
   "cell_type": "markdown",
   "metadata": {},
   "source": [
    "Lamda functions are great when you want to represent a function that is defined for an independant variable, for example "
   ]
  },
  {
   "cell_type": "code",
   "execution_count": 42,
   "metadata": {},
   "outputs": [
    {
     "name": "stdout",
     "output_type": "stream",
     "text": [
      "Acceleration near Earth's surface\n",
      "9.791810155584589\n"
     ]
    },
    {
     "data": {
      "text/plain": [
       "<matplotlib.legend.Legend at 0x7fcb4fed8ad0>"
      ]
     },
     "execution_count": 42,
     "metadata": {},
     "output_type": "execute_result"
    },
    {
     "data": {
      "image/png": "[encoded data removed]",
      "text/plain": [
       "<Figure size 432x288 with 1 Axes>"
      ]
     },
     "metadata": {
      "needs_background": "light"
     },
     "output_type": "display_data"
    }
   ],
   "source": [
    "# EX) define the graviational field strength near earth as a function of r\n",
    "\n",
    "# eqn: Fg = GMm/r^2 = ma -> a = GMm/r^2\n",
    "\n",
    "def a_E():\n",
    "    G = 6.67e-11\n",
    "    m_E = 5.972e24\n",
    "    r_E = 6.3781e6\n",
    "    return lambda r: G * m_E  / (r + r_E)**2\n",
    "    \n",
    "print('Acceleration near Earth\\'s surface')\n",
    "print(a_E()(0))\n",
    "\n",
    "r = np.linspace(0,10000000, 100)\n",
    "\n",
    "import matplotlib.pyplot as plt\n",
    "\n",
    "plt.plot(r, a_E()(r), label='a_gravity(r)')\n",
    "plt.axhline(a_E()(0),color='r',linestyle='--',label='a_gravity(r=0)')\n",
    "plt.xlabel('Distance from Earth\\'s surface [m]')\n",
    "plt.ylabel('Acceleration due to Earth\\'s gravity [m/s^2]')\n",
    "plt.legend()"
   ]
  },
  {
   "cell_type": "markdown",
   "metadata": {},
   "source": [
    "Optional arguments in functions: \n",
    "\n",
    "Say I wanted to modify a_E so that, if a mass is passed to the function, it instead returns the force instead of the acceleration. One way to do that is to add the mass as an optional argument "
   ]
  },
  {
   "cell_type": "code",
   "execution_count": 43,
   "metadata": {},
   "outputs": [
    {
     "name": "stdout",
     "output_type": "stream",
     "text": [
      "Limit where Fg_E = a =  9.791810155584589\n"
     ]
    },
    {
     "data": {
      "text/plain": [
       "<matplotlib.legend.Legend at 0x7fcb5030f350>"
      ]
     },
     "execution_count": 43,
     "metadata": {},
     "output_type": "execute_result"
    },
    {
     "data": {
      "image/png": "[encoded data removed]",
      "text/plain": [
       "<Figure size 432x288 with 1 Axes>"
      ]
     },
     "metadata": {
      "needs_background": "light"
     },
     "output_type": "display_data"
    }
   ],
   "source": [
    "def Fg_E(m=1):\n",
    "    G = 6.67e-11\n",
    "    m_E = 5.972e24\n",
    "    r_E = 6.3781e6\n",
    "    return lambda r: G * m_E * m  / (r+r_E)**2\n",
    "\n",
    "print('Limit where Fg_E = a = ',Fg_E()(0))\n",
    "\n",
    "m = np.linspace(0,10000, 100)\n",
    "\n",
    "plt.plot(m, Fg_E(m)(0), label='F_gravity(m)')\n",
    "plt.axhline(Fg_E()(0),color='r',linestyle='--',label='F_gravity(m=0,r=0)')\n",
    "plt.xlabel('Mass of object [kg]')\n",
    "plt.ylabel('Force due to Earth\\'s gravity [N]')\n",
    "plt.legend()"
   ]
  },
  {
   "cell_type": "code",
   "execution_count": 44,
   "metadata": {},
   "outputs": [
    {
     "data": {
      "text/plain": [
       "<matplotlib.legend.Legend at 0x7fcb4ddd4fd0>"
      ]
     },
     "execution_count": 44,
     "metadata": {},
     "output_type": "execute_result"
    },
    {
     "data": {
      "image/png": "[encoded data removed]",
      "text/plain": [
       "<Figure size 432x288 with 1 Axes>"
      ]
     },
     "metadata": {
      "needs_background": "light"
     },
     "output_type": "display_data"
    }
   ],
   "source": [
    "# Force due to earth for different masses\n",
    "plt.plot(r, Fg_E(m=1)(r), label='F_gravity(m=1,r)')\n",
    "plt.plot(r, Fg_E(m=50)(r), label='F_gravity(m=50,r)')\n",
    "plt.plot(r, Fg_E(m=100)(r), label='F_gravity(m=100,r)')\n",
    "plt.plot(r, Fg_E(m=500)(r), label='F_gravity(m=500,r)')\n",
    "plt.xlabel('Distanc from Earth\\'s surface [m]')\n",
    "plt.ylabel('Force due to Earth\\'s gravity [N]')\n",
    "plt.legend()"
   ]
  },
  {
   "cell_type": "markdown",
   "metadata": {},
   "source": [
    "# Data Handling"
   ]
  },
  {
   "cell_type": "markdown",
   "metadata": {},
   "source": [
    "Pandas is a powerful data handling tool that you would do well to get used to. Appart from storing and accessing data efficiently it also contained many built in functions for plotting. This section will show you have to create a pandas dataframe, save & load it, access the data, and do some basic plots. "
   ]
  },
  {
   "cell_type": "code",
   "execution_count": 45,
   "metadata": {},
   "outputs": [],
   "source": [
    "import pandas as pd"
   ]
  },
  {
   "cell_type": "markdown",
   "metadata": {},
   "source": [
    "## Loading and accessing data"
   ]
  },
  {
   "cell_type": "code",
   "execution_count": 46,
   "metadata": {},
   "outputs": [],
   "source": [
    "path = '/Users/adamsmith/Desktop/Physics/YORKU/darkmatter/BSM/code/sean/jeans-model/Relaxation profiles/SIDM1/multiscan/L2_grid200/'\n",
    "df = pd.read_csv(path + 'SIDM_GalaxyID_0_L2_grid200_data.csv')"
   ]
  },
  {
   "cell_type": "code",
   "execution_count": 243,
   "metadata": {},
   "outputs": [
    {
     "name": "stdout",
     "output_type": "stream",
     "text": [
      "2492\n",
      "r1                        float64\n",
      "c                         float64\n",
      "q                         float64\n",
      "sigma_m                   float64\n",
      "logL_Poisson              float64\n",
      "logL_chi_sq               float64\n",
      "logL_chi_sq_r_weighted    float64\n",
      "filename                   object\n",
      "dtype: object\n"
     ]
    },
    {
     "data": {
      "text/html": [
       "<div>\n",
       "<style scoped>\n",
       "    .dataframe tbody tr th:only-of-type {\n",
       "        vertical-align: middle;\n",
       "    }\n",
       "\n",
       "    .dataframe tbody tr th {\n",
       "        vertical-align: top;\n",
       "    }\n",
       "\n",
       "    .dataframe thead th {\n",
       "        text-align: right;\n",
       "    }\n",
       "</style>\n",
       "<table border=\"1\" class=\"dataframe\">\n",
       "  <thead>\n",
       "    <tr style=\"text-align: right;\">\n",
       "      <th></th>\n",
       "      <th>r1</th>\n",
       "      <th>c</th>\n",
       "      <th>q</th>\n",
       "      <th>sigma_m</th>\n",
       "      <th>logL_Poisson</th>\n",
       "      <th>logL_chi_sq</th>\n",
       "      <th>logL_chi_sq_r_weighted</th>\n",
       "      <th>filename</th>\n",
       "    </tr>\n",
       "  </thead>\n",
       "  <tbody>\n",
       "    <tr>\n",
       "      <th>0</th>\n",
       "      <td>10.000000</td>\n",
       "      <td>2.823870</td>\n",
       "      <td>0.712107</td>\n",
       "      <td>0.045660</td>\n",
       "      <td>-131162.070553</td>\n",
       "      <td>-911665.702124</td>\n",
       "      <td>-4.615448e+06</td>\n",
       "      <td>F:\\GitHub\\jeans-model\\Relaxation profiles\\SIDM...</td>\n",
       "    </tr>\n",
       "    <tr>\n",
       "      <th>1</th>\n",
       "      <td>10.000000</td>\n",
       "      <td>2.823870</td>\n",
       "      <td>0.732107</td>\n",
       "      <td>0.045540</td>\n",
       "      <td>-128705.283810</td>\n",
       "      <td>-908781.294203</td>\n",
       "      <td>-4.608593e+06</td>\n",
       "      <td>F:\\GitHub\\jeans-model\\Relaxation profiles\\SIDM...</td>\n",
       "    </tr>\n",
       "    <tr>\n",
       "      <th>2</th>\n",
       "      <td>10.000000</td>\n",
       "      <td>2.823870</td>\n",
       "      <td>0.752107</td>\n",
       "      <td>0.045435</td>\n",
       "      <td>-126484.011478</td>\n",
       "      <td>-906279.534242</td>\n",
       "      <td>-4.602761e+06</td>\n",
       "      <td>F:\\GitHub\\jeans-model\\Relaxation profiles\\SIDM...</td>\n",
       "    </tr>\n",
       "    <tr>\n",
       "      <th>3</th>\n",
       "      <td>10.000000</td>\n",
       "      <td>2.823870</td>\n",
       "      <td>0.772107</td>\n",
       "      <td>0.045343</td>\n",
       "      <td>-124469.023310</td>\n",
       "      <td>-904161.681369</td>\n",
       "      <td>-4.598326e+06</td>\n",
       "      <td>F:\\GitHub\\jeans-model\\Relaxation profiles\\SIDM...</td>\n",
       "    </tr>\n",
       "    <tr>\n",
       "      <th>4</th>\n",
       "      <td>10.000000</td>\n",
       "      <td>2.823870</td>\n",
       "      <td>0.792107</td>\n",
       "      <td>0.045268</td>\n",
       "      <td>-122635.001425</td>\n",
       "      <td>-902515.331582</td>\n",
       "      <td>-4.596294e+06</td>\n",
       "      <td>F:\\GitHub\\jeans-model\\Relaxation profiles\\SIDM...</td>\n",
       "    </tr>\n",
       "    <tr>\n",
       "      <th>...</th>\n",
       "      <td>...</td>\n",
       "      <td>...</td>\n",
       "      <td>...</td>\n",
       "      <td>...</td>\n",
       "      <td>...</td>\n",
       "      <td>...</td>\n",
       "      <td>...</td>\n",
       "      <td>...</td>\n",
       "    </tr>\n",
       "    <tr>\n",
       "      <th>2487</th>\n",
       "      <td>794.328235</td>\n",
       "      <td>4.475532</td>\n",
       "      <td>0.832107</td>\n",
       "      <td>28.222368</td>\n",
       "      <td>-71233.821503</td>\n",
       "      <td>-22222.605330</td>\n",
       "      <td>-7.644077e+03</td>\n",
       "      <td>F:\\GitHub\\jeans-model\\Relaxation profiles\\SIDM...</td>\n",
       "    </tr>\n",
       "    <tr>\n",
       "      <th>2488</th>\n",
       "      <td>794.328235</td>\n",
       "      <td>4.475532</td>\n",
       "      <td>0.852107</td>\n",
       "      <td>28.204648</td>\n",
       "      <td>-72090.776564</td>\n",
       "      <td>-24438.934078</td>\n",
       "      <td>-8.336114e+03</td>\n",
       "      <td>F:\\GitHub\\jeans-model\\Relaxation profiles\\SIDM...</td>\n",
       "    </tr>\n",
       "    <tr>\n",
       "      <th>2489</th>\n",
       "      <td>794.328235</td>\n",
       "      <td>4.475532</td>\n",
       "      <td>0.872107</td>\n",
       "      <td>28.188156</td>\n",
       "      <td>-72910.945795</td>\n",
       "      <td>-26476.795176</td>\n",
       "      <td>-8.952673e+03</td>\n",
       "      <td>F:\\GitHub\\jeans-model\\Relaxation profiles\\SIDM...</td>\n",
       "    </tr>\n",
       "    <tr>\n",
       "      <th>2490</th>\n",
       "      <td>794.328235</td>\n",
       "      <td>4.475532</td>\n",
       "      <td>0.892107</td>\n",
       "      <td>28.172579</td>\n",
       "      <td>-73699.425389</td>\n",
       "      <td>-28375.917724</td>\n",
       "      <td>-9.513238e+03</td>\n",
       "      <td>F:\\GitHub\\jeans-model\\Relaxation profiles\\SIDM...</td>\n",
       "    </tr>\n",
       "    <tr>\n",
       "      <th>2491</th>\n",
       "      <td>794.328235</td>\n",
       "      <td>4.475532</td>\n",
       "      <td>0.912107</td>\n",
       "      <td>28.157887</td>\n",
       "      <td>-74460.098337</td>\n",
       "      <td>-30161.744110</td>\n",
       "      <td>-1.002965e+04</td>\n",
       "      <td>F:\\GitHub\\jeans-model\\Relaxation profiles\\SIDM...</td>\n",
       "    </tr>\n",
       "  </tbody>\n",
       "</table>\n",
       "<p>2492 rows × 8 columns</p>\n",
       "</div>"
      ],
      "text/plain": [
       "              r1         c         q    sigma_m   logL_Poisson    logL_chi_sq  \\\n",
       "0      10.000000  2.823870  0.712107   0.045660 -131162.070553 -911665.702124   \n",
       "1      10.000000  2.823870  0.732107   0.045540 -128705.283810 -908781.294203   \n",
       "2      10.000000  2.823870  0.752107   0.045435 -126484.011478 -906279.534242   \n",
       "3      10.000000  2.823870  0.772107   0.045343 -124469.023310 -904161.681369   \n",
       "4      10.000000  2.823870  0.792107   0.045268 -122635.001425 -902515.331582   \n",
       "...          ...       ...       ...        ...            ...            ...   \n",
       "2487  794.328235  4.475532  0.832107  28.222368  -71233.821503  -22222.605330   \n",
       "2488  794.328235  4.475532  0.852107  28.204648  -72090.776564  -24438.934078   \n",
       "2489  794.328235  4.475532  0.872107  28.188156  -72910.945795  -26476.795176   \n",
       "2490  794.328235  4.475532  0.892107  28.172579  -73699.425389  -28375.917724   \n",
       "2491  794.328235  4.475532  0.912107  28.157887  -74460.098337  -30161.744110   \n",
       "\n",
       "      logL_chi_sq_r_weighted  \\\n",
       "0              -4.615448e+06   \n",
       "1              -4.608593e+06   \n",
       "2              -4.602761e+06   \n",
       "3              -4.598326e+06   \n",
       "4              -4.596294e+06   \n",
       "...                      ...   \n",
       "2487           -7.644077e+03   \n",
       "2488           -8.336114e+03   \n",
       "2489           -8.952673e+03   \n",
       "2490           -9.513238e+03   \n",
       "2491           -1.002965e+04   \n",
       "\n",
       "                                               filename  \n",
       "0     F:\\GitHub\\jeans-model\\Relaxation profiles\\SIDM...  \n",
       "1     F:\\GitHub\\jeans-model\\Relaxation profiles\\SIDM...  \n",
       "2     F:\\GitHub\\jeans-model\\Relaxation profiles\\SIDM...  \n",
       "3     F:\\GitHub\\jeans-model\\Relaxation profiles\\SIDM...  \n",
       "4     F:\\GitHub\\jeans-model\\Relaxation profiles\\SIDM...  \n",
       "...                                                 ...  \n",
       "2487  F:\\GitHub\\jeans-model\\Relaxation profiles\\SIDM...  \n",
       "2488  F:\\GitHub\\jeans-model\\Relaxation profiles\\SIDM...  \n",
       "2489  F:\\GitHub\\jeans-model\\Relaxation profiles\\SIDM...  \n",
       "2490  F:\\GitHub\\jeans-model\\Relaxation profiles\\SIDM...  \n",
       "2491  F:\\GitHub\\jeans-model\\Relaxation profiles\\SIDM...  \n",
       "\n",
       "[2492 rows x 8 columns]"
      ]
     },
     "execution_count": 243,
     "metadata": {},
     "output_type": "execute_result"
    }
   ],
   "source": [
    "print(len(df))\n",
    "print(df.dtypes)\n",
    "df"
   ]
  },
  {
   "cell_type": "code",
   "execution_count": 48,
   "metadata": {},
   "outputs": [
    {
     "data": {
      "text/plain": [
       "Index(['r1', 'c', 'q', 'sigma_m', 'logL_Poisson', 'logL_chi_sq',\n",
       "       'logL_chi_sq_r_weighted', 'filename'],\n",
       "      dtype='object')"
      ]
     },
     "execution_count": 48,
     "metadata": {},
     "output_type": "execute_result"
    }
   ],
   "source": [
    "df.columns"
   ]
  },
  {
   "cell_type": "code",
   "execution_count": 49,
   "metadata": {},
   "outputs": [
    {
     "name": "stdout",
     "output_type": "stream",
     "text": [
      "     r1        c         q  sigma_m   logL_Poisson    logL_chi_sq  \\\n",
      "0  10.0  2.82387  0.712107  0.04566 -131162.070553 -911665.702124   \n",
      "\n",
      "   logL_chi_sq_r_weighted                                           filename  \n",
      "0           -4.615448e+06  F:\\GitHub\\jeans-model\\Relaxation profiles\\SIDM...  \n",
      "...\n",
      "              r1         c         q    sigma_m  logL_Poisson  logL_chi_sq  \\\n",
      "2491  794.328235  4.475532  0.912107  28.157887 -74460.098337 -30161.74411   \n",
      "\n",
      "      logL_chi_sq_r_weighted  \\\n",
      "2491           -10029.649454   \n",
      "\n",
      "                                               filename  \n",
      "2491  F:\\GitHub\\jeans-model\\Relaxation profiles\\SIDM...  \n"
     ]
    }
   ],
   "source": [
    "print(df.head(1))\n",
    "print('...')\n",
    "print(df.tail(1))"
   ]
  },
  {
   "cell_type": "code",
   "execution_count": 50,
   "metadata": {},
   "outputs": [
    {
     "data": {
      "text/html": [
       "<div>\n",
       "<style scoped>\n",
       "    .dataframe tbody tr th:only-of-type {\n",
       "        vertical-align: middle;\n",
       "    }\n",
       "\n",
       "    .dataframe tbody tr th {\n",
       "        vertical-align: top;\n",
       "    }\n",
       "\n",
       "    .dataframe thead th {\n",
       "        text-align: right;\n",
       "    }\n",
       "</style>\n",
       "<table border=\"1\" class=\"dataframe\">\n",
       "  <thead>\n",
       "    <tr style=\"text-align: right;\">\n",
       "      <th></th>\n",
       "      <th>r1</th>\n",
       "      <th>c</th>\n",
       "      <th>q</th>\n",
       "      <th>sigma_m</th>\n",
       "      <th>logL_Poisson</th>\n",
       "      <th>logL_chi_sq</th>\n",
       "      <th>logL_chi_sq_r_weighted</th>\n",
       "      <th>filename</th>\n",
       "    </tr>\n",
       "  </thead>\n",
       "  <tbody>\n",
       "    <tr>\n",
       "      <th>0</th>\n",
       "      <td>10.0</td>\n",
       "      <td>2.82387</td>\n",
       "      <td>0.712107</td>\n",
       "      <td>0.045660</td>\n",
       "      <td>-131162.070553</td>\n",
       "      <td>-911665.702124</td>\n",
       "      <td>-4.615448e+06</td>\n",
       "      <td>F:\\GitHub\\jeans-model\\Relaxation profiles\\SIDM...</td>\n",
       "    </tr>\n",
       "    <tr>\n",
       "      <th>1</th>\n",
       "      <td>10.0</td>\n",
       "      <td>2.82387</td>\n",
       "      <td>0.732107</td>\n",
       "      <td>0.045540</td>\n",
       "      <td>-128705.283810</td>\n",
       "      <td>-908781.294203</td>\n",
       "      <td>-4.608593e+06</td>\n",
       "      <td>F:\\GitHub\\jeans-model\\Relaxation profiles\\SIDM...</td>\n",
       "    </tr>\n",
       "    <tr>\n",
       "      <th>2</th>\n",
       "      <td>10.0</td>\n",
       "      <td>2.82387</td>\n",
       "      <td>0.752107</td>\n",
       "      <td>0.045435</td>\n",
       "      <td>-126484.011478</td>\n",
       "      <td>-906279.534242</td>\n",
       "      <td>-4.602761e+06</td>\n",
       "      <td>F:\\GitHub\\jeans-model\\Relaxation profiles\\SIDM...</td>\n",
       "    </tr>\n",
       "    <tr>\n",
       "      <th>3</th>\n",
       "      <td>10.0</td>\n",
       "      <td>2.82387</td>\n",
       "      <td>0.772107</td>\n",
       "      <td>0.045343</td>\n",
       "      <td>-124469.023310</td>\n",
       "      <td>-904161.681369</td>\n",
       "      <td>-4.598326e+06</td>\n",
       "      <td>F:\\GitHub\\jeans-model\\Relaxation profiles\\SIDM...</td>\n",
       "    </tr>\n",
       "    <tr>\n",
       "      <th>4</th>\n",
       "      <td>10.0</td>\n",
       "      <td>2.82387</td>\n",
       "      <td>0.792107</td>\n",
       "      <td>0.045268</td>\n",
       "      <td>-122635.001425</td>\n",
       "      <td>-902515.331582</td>\n",
       "      <td>-4.596294e+06</td>\n",
       "      <td>F:\\GitHub\\jeans-model\\Relaxation profiles\\SIDM...</td>\n",
       "    </tr>\n",
       "    <tr>\n",
       "      <th>5</th>\n",
       "      <td>10.0</td>\n",
       "      <td>2.82387</td>\n",
       "      <td>0.812107</td>\n",
       "      <td>0.045213</td>\n",
       "      <td>-120964.995613</td>\n",
       "      <td>-901465.372201</td>\n",
       "      <td>-4.597837e+06</td>\n",
       "      <td>F:\\GitHub\\jeans-model\\Relaxation profiles\\SIDM...</td>\n",
       "    </tr>\n",
       "  </tbody>\n",
       "</table>\n",
       "</div>"
      ],
      "text/plain": [
       "     r1        c         q   sigma_m   logL_Poisson    logL_chi_sq  \\\n",
       "0  10.0  2.82387  0.712107  0.045660 -131162.070553 -911665.702124   \n",
       "1  10.0  2.82387  0.732107  0.045540 -128705.283810 -908781.294203   \n",
       "2  10.0  2.82387  0.752107  0.045435 -126484.011478 -906279.534242   \n",
       "3  10.0  2.82387  0.772107  0.045343 -124469.023310 -904161.681369   \n",
       "4  10.0  2.82387  0.792107  0.045268 -122635.001425 -902515.331582   \n",
       "5  10.0  2.82387  0.812107  0.045213 -120964.995613 -901465.372201   \n",
       "\n",
       "   logL_chi_sq_r_weighted                                           filename  \n",
       "0           -4.615448e+06  F:\\GitHub\\jeans-model\\Relaxation profiles\\SIDM...  \n",
       "1           -4.608593e+06  F:\\GitHub\\jeans-model\\Relaxation profiles\\SIDM...  \n",
       "2           -4.602761e+06  F:\\GitHub\\jeans-model\\Relaxation profiles\\SIDM...  \n",
       "3           -4.598326e+06  F:\\GitHub\\jeans-model\\Relaxation profiles\\SIDM...  \n",
       "4           -4.596294e+06  F:\\GitHub\\jeans-model\\Relaxation profiles\\SIDM...  \n",
       "5           -4.597837e+06  F:\\GitHub\\jeans-model\\Relaxation profiles\\SIDM...  "
      ]
     },
     "execution_count": 50,
     "metadata": {},
     "output_type": "execute_result"
    }
   ],
   "source": [
    "df[0:6]"
   ]
  },
  {
   "cell_type": "code",
   "execution_count": 51,
   "metadata": {},
   "outputs": [
    {
     "data": {
      "text/plain": [
       "array([[10.0, 2.8238700617091537, 0.712107159094553, ...,\n",
       "        -911665.7021237971, -4615447.573511061,\n",
       "        'F:\\\\GitHub\\\\jeans-model\\\\Relaxation profiles\\\\SIDM1\\\\multiscan\\\\L2_grid200\\\\SIDM1_GalaxyID_0_L2_grid200_r1_10.000000_c_2.823870_q_0.712107.npy'],\n",
       "       [10.0, 2.8238700617091537, 0.732107159094553, ...,\n",
       "        -908781.294202837, -4608592.532629138,\n",
       "        'F:\\\\GitHub\\\\jeans-model\\\\Relaxation profiles\\\\SIDM1\\\\multiscan\\\\L2_grid200\\\\SIDM1_GalaxyID_0_L2_grid200_r1_10.000000_c_2.823870_q_0.732107.npy'],\n",
       "       [10.0, 2.8238700617091537, 0.752107159094553, ...,\n",
       "        -906279.5342423669, -4602761.412332648,\n",
       "        'F:\\\\GitHub\\\\jeans-model\\\\Relaxation profiles\\\\SIDM1\\\\multiscan\\\\L2_grid200\\\\SIDM1_GalaxyID_0_L2_grid200_r1_10.000000_c_2.823870_q_0.752107.npy'],\n",
       "       ...,\n",
       "       [794.3282347242822, 4.475532437197582, 0.8721071590945529, ...,\n",
       "        -26476.79517571416, -8952.67325923562,\n",
       "        'F:\\\\GitHub\\\\jeans-model\\\\Relaxation profiles\\\\SIDM1\\\\multiscan\\\\L2_grid200\\\\SIDM1_GalaxyID_0_L2_grid200_r1_794.328235_c_4.475532_q_0.872107.npy'],\n",
       "       [794.3282347242822, 4.475532437197582, 0.892107159094553, ...,\n",
       "        -28375.91772369853, -9513.23755632308,\n",
       "        'F:\\\\GitHub\\\\jeans-model\\\\Relaxation profiles\\\\SIDM1\\\\multiscan\\\\L2_grid200\\\\SIDM1_GalaxyID_0_L2_grid200_r1_794.328235_c_4.475532_q_0.892107.npy'],\n",
       "       [794.3282347242822, 4.475532437197582, 0.912107159094553, ...,\n",
       "        -30161.744109956788, -10029.649453892398,\n",
       "        'F:\\\\GitHub\\\\jeans-model\\\\Relaxation profiles\\\\SIDM1\\\\multiscan\\\\L2_grid200\\\\SIDM1_GalaxyID_0_L2_grid200_r1_794.328235_c_4.475532_q_0.912107.npy']],\n",
       "      dtype=object)"
      ]
     },
     "execution_count": 51,
     "metadata": {},
     "output_type": "execute_result"
    }
   ],
   "source": [
    "df.values"
   ]
  },
  {
   "cell_type": "code",
   "execution_count": 52,
   "metadata": {},
   "outputs": [
    {
     "data": {
      "text/plain": [
       "0        10.000000\n",
       "1        10.000000\n",
       "2        10.000000\n",
       "3        10.000000\n",
       "4        10.000000\n",
       "           ...    \n",
       "2487    794.328235\n",
       "2488    794.328235\n",
       "2489    794.328235\n",
       "2490    794.328235\n",
       "2491    794.328235\n",
       "Name: r1, Length: 2492, dtype: float64"
      ]
     },
     "execution_count": 52,
     "metadata": {},
     "output_type": "execute_result"
    }
   ],
   "source": [
    "df['r1']"
   ]
  },
  {
   "cell_type": "code",
   "execution_count": 53,
   "metadata": {},
   "outputs": [
    {
     "data": {
      "text/plain": [
       "r1                                                                       10\n",
       "c                                                                   2.82387\n",
       "q                                                                  0.712107\n",
       "sigma_m                                                           0.0456599\n",
       "logL_Poisson                                                        -131162\n",
       "logL_chi_sq                                                         -911666\n",
       "logL_chi_sq_r_weighted                                         -4.61545e+06\n",
       "filename                  F:\\GitHub\\jeans-model\\Relaxation profiles\\SIDM...\n",
       "Name: 0, dtype: object"
      ]
     },
     "execution_count": 53,
     "metadata": {},
     "output_type": "execute_result"
    }
   ],
   "source": [
    "df.iloc[0]"
   ]
  },
  {
   "cell_type": "code",
   "execution_count": 54,
   "metadata": {},
   "outputs": [
    {
     "data": {
      "text/plain": [
       "10.0"
      ]
     },
     "execution_count": 54,
     "metadata": {},
     "output_type": "execute_result"
    }
   ],
   "source": [
    "df.iloc[0]['r1']"
   ]
  },
  {
   "cell_type": "code",
   "execution_count": 55,
   "metadata": {},
   "outputs": [
    {
     "data": {
      "text/html": [
       "<div>\n",
       "<style scoped>\n",
       "    .dataframe tbody tr th:only-of-type {\n",
       "        vertical-align: middle;\n",
       "    }\n",
       "\n",
       "    .dataframe tbody tr th {\n",
       "        vertical-align: top;\n",
       "    }\n",
       "\n",
       "    .dataframe thead th {\n",
       "        text-align: right;\n",
       "    }\n",
       "</style>\n",
       "<table border=\"1\" class=\"dataframe\">\n",
       "  <thead>\n",
       "    <tr style=\"text-align: right;\">\n",
       "      <th></th>\n",
       "      <th>r1</th>\n",
       "      <th>c</th>\n",
       "      <th>q</th>\n",
       "      <th>sigma_m</th>\n",
       "      <th>logL_Poisson</th>\n",
       "      <th>logL_chi_sq</th>\n",
       "      <th>logL_chi_sq_r_weighted</th>\n",
       "      <th>filename</th>\n",
       "    </tr>\n",
       "  </thead>\n",
       "  <tbody>\n",
       "    <tr>\n",
       "      <th>0</th>\n",
       "      <td>10.0</td>\n",
       "      <td>2.823870</td>\n",
       "      <td>0.712107</td>\n",
       "      <td>0.045660</td>\n",
       "      <td>-131162.070553</td>\n",
       "      <td>-9.116657e+05</td>\n",
       "      <td>-4.615448e+06</td>\n",
       "      <td>F:\\GitHub\\jeans-model\\Relaxation profiles\\SIDM...</td>\n",
       "    </tr>\n",
       "    <tr>\n",
       "      <th>1</th>\n",
       "      <td>10.0</td>\n",
       "      <td>2.823870</td>\n",
       "      <td>0.732107</td>\n",
       "      <td>0.045540</td>\n",
       "      <td>-128705.283810</td>\n",
       "      <td>-9.087813e+05</td>\n",
       "      <td>-4.608593e+06</td>\n",
       "      <td>F:\\GitHub\\jeans-model\\Relaxation profiles\\SIDM...</td>\n",
       "    </tr>\n",
       "    <tr>\n",
       "      <th>2</th>\n",
       "      <td>10.0</td>\n",
       "      <td>2.823870</td>\n",
       "      <td>0.752107</td>\n",
       "      <td>0.045435</td>\n",
       "      <td>-126484.011478</td>\n",
       "      <td>-9.062795e+05</td>\n",
       "      <td>-4.602761e+06</td>\n",
       "      <td>F:\\GitHub\\jeans-model\\Relaxation profiles\\SIDM...</td>\n",
       "    </tr>\n",
       "    <tr>\n",
       "      <th>3</th>\n",
       "      <td>10.0</td>\n",
       "      <td>2.823870</td>\n",
       "      <td>0.772107</td>\n",
       "      <td>0.045343</td>\n",
       "      <td>-124469.023310</td>\n",
       "      <td>-9.041617e+05</td>\n",
       "      <td>-4.598326e+06</td>\n",
       "      <td>F:\\GitHub\\jeans-model\\Relaxation profiles\\SIDM...</td>\n",
       "    </tr>\n",
       "    <tr>\n",
       "      <th>4</th>\n",
       "      <td>10.0</td>\n",
       "      <td>2.823870</td>\n",
       "      <td>0.792107</td>\n",
       "      <td>0.045268</td>\n",
       "      <td>-122635.001425</td>\n",
       "      <td>-9.025153e+05</td>\n",
       "      <td>-4.596294e+06</td>\n",
       "      <td>F:\\GitHub\\jeans-model\\Relaxation profiles\\SIDM...</td>\n",
       "    </tr>\n",
       "    <tr>\n",
       "      <th>...</th>\n",
       "      <td>...</td>\n",
       "      <td>...</td>\n",
       "      <td>...</td>\n",
       "      <td>...</td>\n",
       "      <td>...</td>\n",
       "      <td>...</td>\n",
       "      <td>...</td>\n",
       "      <td>...</td>\n",
       "    </tr>\n",
       "    <tr>\n",
       "      <th>116</th>\n",
       "      <td>10.0</td>\n",
       "      <td>4.475532</td>\n",
       "      <td>0.832107</td>\n",
       "      <td>0.028146</td>\n",
       "      <td>-143144.741561</td>\n",
       "      <td>-1.682423e+06</td>\n",
       "      <td>-7.074831e+06</td>\n",
       "      <td>F:\\GitHub\\jeans-model\\Relaxation profiles\\SIDM...</td>\n",
       "    </tr>\n",
       "    <tr>\n",
       "      <th>117</th>\n",
       "      <td>10.0</td>\n",
       "      <td>4.475532</td>\n",
       "      <td>0.852107</td>\n",
       "      <td>0.028121</td>\n",
       "      <td>-142045.299527</td>\n",
       "      <td>-1.686743e+06</td>\n",
       "      <td>-7.083129e+06</td>\n",
       "      <td>F:\\GitHub\\jeans-model\\Relaxation profiles\\SIDM...</td>\n",
       "    </tr>\n",
       "    <tr>\n",
       "      <th>118</th>\n",
       "      <td>10.0</td>\n",
       "      <td>4.475532</td>\n",
       "      <td>0.872107</td>\n",
       "      <td>0.028100</td>\n",
       "      <td>-141042.009552</td>\n",
       "      <td>-1.691196e+06</td>\n",
       "      <td>-7.090429e+06</td>\n",
       "      <td>F:\\GitHub\\jeans-model\\Relaxation profiles\\SIDM...</td>\n",
       "    </tr>\n",
       "    <tr>\n",
       "      <th>119</th>\n",
       "      <td>10.0</td>\n",
       "      <td>4.475532</td>\n",
       "      <td>0.892107</td>\n",
       "      <td>0.028081</td>\n",
       "      <td>-140127.737557</td>\n",
       "      <td>-1.695676e+06</td>\n",
       "      <td>-7.096022e+06</td>\n",
       "      <td>F:\\GitHub\\jeans-model\\Relaxation profiles\\SIDM...</td>\n",
       "    </tr>\n",
       "    <tr>\n",
       "      <th>120</th>\n",
       "      <td>10.0</td>\n",
       "      <td>4.475532</td>\n",
       "      <td>0.912107</td>\n",
       "      <td>0.028066</td>\n",
       "      <td>-139296.474958</td>\n",
       "      <td>-1.700402e+06</td>\n",
       "      <td>-7.101996e+06</td>\n",
       "      <td>F:\\GitHub\\jeans-model\\Relaxation profiles\\SIDM...</td>\n",
       "    </tr>\n",
       "  </tbody>\n",
       "</table>\n",
       "<p>121 rows × 8 columns</p>\n",
       "</div>"
      ],
      "text/plain": [
       "       r1         c         q   sigma_m   logL_Poisson   logL_chi_sq  \\\n",
       "0    10.0  2.823870  0.712107  0.045660 -131162.070553 -9.116657e+05   \n",
       "1    10.0  2.823870  0.732107  0.045540 -128705.283810 -9.087813e+05   \n",
       "2    10.0  2.823870  0.752107  0.045435 -126484.011478 -9.062795e+05   \n",
       "3    10.0  2.823870  0.772107  0.045343 -124469.023310 -9.041617e+05   \n",
       "4    10.0  2.823870  0.792107  0.045268 -122635.001425 -9.025153e+05   \n",
       "..    ...       ...       ...       ...            ...           ...   \n",
       "116  10.0  4.475532  0.832107  0.028146 -143144.741561 -1.682423e+06   \n",
       "117  10.0  4.475532  0.852107  0.028121 -142045.299527 -1.686743e+06   \n",
       "118  10.0  4.475532  0.872107  0.028100 -141042.009552 -1.691196e+06   \n",
       "119  10.0  4.475532  0.892107  0.028081 -140127.737557 -1.695676e+06   \n",
       "120  10.0  4.475532  0.912107  0.028066 -139296.474958 -1.700402e+06   \n",
       "\n",
       "     logL_chi_sq_r_weighted                                           filename  \n",
       "0             -4.615448e+06  F:\\GitHub\\jeans-model\\Relaxation profiles\\SIDM...  \n",
       "1             -4.608593e+06  F:\\GitHub\\jeans-model\\Relaxation profiles\\SIDM...  \n",
       "2             -4.602761e+06  F:\\GitHub\\jeans-model\\Relaxation profiles\\SIDM...  \n",
       "3             -4.598326e+06  F:\\GitHub\\jeans-model\\Relaxation profiles\\SIDM...  \n",
       "4             -4.596294e+06  F:\\GitHub\\jeans-model\\Relaxation profiles\\SIDM...  \n",
       "..                      ...                                                ...  \n",
       "116           -7.074831e+06  F:\\GitHub\\jeans-model\\Relaxation profiles\\SIDM...  \n",
       "117           -7.083129e+06  F:\\GitHub\\jeans-model\\Relaxation profiles\\SIDM...  \n",
       "118           -7.090429e+06  F:\\GitHub\\jeans-model\\Relaxation profiles\\SIDM...  \n",
       "119           -7.096022e+06  F:\\GitHub\\jeans-model\\Relaxation profiles\\SIDM...  \n",
       "120           -7.101996e+06  F:\\GitHub\\jeans-model\\Relaxation profiles\\SIDM...  \n",
       "\n",
       "[121 rows x 8 columns]"
      ]
     },
     "execution_count": 55,
     "metadata": {},
     "output_type": "execute_result"
    }
   ],
   "source": [
    "# conditions \n",
    "df.loc[df['r1']==10]"
   ]
  },
  {
   "cell_type": "code",
   "execution_count": 56,
   "metadata": {},
   "outputs": [
    {
     "data": {
      "text/plain": [
       "pandas.core.frame.DataFrame"
      ]
     },
     "execution_count": 56,
     "metadata": {},
     "output_type": "execute_result"
    }
   ],
   "source": [
    "# new dataframe with subset r1=10\n",
    "subset = df.loc[df['r1']==10]\n",
    "type(subset)"
   ]
  },
  {
   "cell_type": "code",
   "execution_count": 57,
   "metadata": {},
   "outputs": [
    {
     "data": {
      "text/plain": [
       "r1                                                                       10\n",
       "c                                                                   3.24224\n",
       "q                                                                  0.912107\n",
       "sigma_m                                                           0.0394983\n",
       "logL_Poisson                                                        -110424\n",
       "logL_chi_sq                                                    -1.04981e+06\n",
       "logL_chi_sq_r_weighted                                         -5.19317e+06\n",
       "filename                  F:\\GitHub\\jeans-model\\Relaxation profiles\\SIDM...\n",
       "Name: 43, dtype: object"
      ]
     },
     "execution_count": 57,
     "metadata": {},
     "output_type": "execute_result"
    }
   ],
   "source": [
    "# find the minimum log poisson values for r1 = 10 \n",
    "subset.iloc[np.argmax(subset['logL_Poisson'])]"
   ]
  },
  {
   "cell_type": "markdown",
   "metadata": {},
   "source": [
    "Math operations"
   ]
  },
  {
   "cell_type": "code",
   "execution_count": 58,
   "metadata": {},
   "outputs": [
    {
     "name": "stdout",
     "output_type": "stream",
     "text": [
      "Mean of q =  0.812107159094553\n",
      "Std of q =  0.06350852961085884\n"
     ]
    }
   ],
   "source": [
    "print('Mean of q = ' , subset['q'].mean())\n",
    "print('Std of q = ' , subset['q'].std())"
   ]
  },
  {
   "cell_type": "markdown",
   "metadata": {},
   "source": [
    "## Creating a dataFrame and saving"
   ]
  },
  {
   "cell_type": "code",
   "execution_count": 59,
   "metadata": {},
   "outputs": [
    {
     "name": "stdout",
     "output_type": "stream",
     "text": [
      "[[0, 0.0], [1, 3.8104214790189674], [2, 20.23314252156459], [3, 32.23574787512625], [4, 40.21031785058491], [5, 74.4272711566571], [6, 122.22198560663864], [7, 230.9943257263566], [8, 252.18677320789487], [9, 353.28418264953916]]\n"
     ]
    }
   ],
   "source": [
    "data = []\n",
    "for i in range(50):\n",
    "    par = (2*i)**2 + i*np.random.normal(0,4)\n",
    "    data.append([i,par])\n",
    "\n",
    "print(data[:10])"
   ]
  },
  {
   "cell_type": "code",
   "execution_count": 61,
   "metadata": {},
   "outputs": [],
   "source": [
    "savepath = '/Users/adamsmith/Desktop/'\n",
    "df2 = pd.DataFrame(data, columns=['x','x^2'])\n",
    "df2.to_csv(savepath + 'example.csv')"
   ]
  },
  {
   "cell_type": "markdown",
   "metadata": {},
   "source": [
    "Built in pandas plotting"
   ]
  },
  {
   "cell_type": "code",
   "execution_count": 62,
   "metadata": {},
   "outputs": [
    {
     "data": {
      "text/plain": [
       "<matplotlib.axes._subplots.AxesSubplot at 0x7fcb51f19350>"
      ]
     },
     "execution_count": 62,
     "metadata": {},
     "output_type": "execute_result"
    },
    {
     "data": {
      "image/png": "[encoded data removed]",
      "text/plain": [
       "<Figure size 432x288 with 1 Axes>"
      ]
     },
     "metadata": {
      "needs_background": "light"
     },
     "output_type": "display_data"
    }
   ],
   "source": [
    "df2.plot()"
   ]
  },
  {
   "cell_type": "code",
   "execution_count": 63,
   "metadata": {},
   "outputs": [
    {
     "data": {
      "text/plain": [
       "<matplotlib.axes._subplots.AxesSubplot at 0x7fcb51fa1490>"
      ]
     },
     "execution_count": 63,
     "metadata": {},
     "output_type": "execute_result"
    },
    {
     "data": {
      "image/png": "[encoded data removed]",
      "text/plain": [
       "<Figure size 432x288 with 1 Axes>"
      ]
     },
     "metadata": {
      "needs_background": "light"
     },
     "output_type": "display_data"
    }
   ],
   "source": [
    "df2['x^2'].plot()"
   ]
  },
  {
   "cell_type": "code",
   "execution_count": 64,
   "metadata": {},
   "outputs": [
    {
     "data": {
      "text/plain": [
       "<matplotlib.axes._subplots.AxesSubplot at 0x7fcb5009a810>"
      ]
     },
     "execution_count": 64,
     "metadata": {},
     "output_type": "execute_result"
    },
    {
     "data": {
      "image/png": "[encoded data removed]",
      "text/plain": [
       "<Figure size 432x288 with 1 Axes>"
      ]
     },
     "metadata": {
      "needs_background": "light"
     },
     "output_type": "display_data"
    }
   ],
   "source": [
    "df2.plot.scatter(x='x', y='x^2', alpha=0.8)"
   ]
  },
  {
   "cell_type": "code",
   "execution_count": 65,
   "metadata": {},
   "outputs": [
    {
     "data": {
      "text/plain": [
       "[<matplotlib.lines.Line2D at 0x7fcb521f1d10>]"
      ]
     },
     "execution_count": 65,
     "metadata": {},
     "output_type": "execute_result"
    },
    {
     "data": {
      "image/png": "[encoded data removed]",
      "text/plain": [
       "<Figure size 432x288 with 1 Axes>"
      ]
     },
     "metadata": {
      "needs_background": "light"
     },
     "output_type": "display_data"
    }
   ],
   "source": [
    "# using matplotlib\n",
    "plt.scatter(df2['x'],df2['x^2'],s=5)\n",
    "plt.plot(df2['x'],(2*df2['x'])**2,color='r')"
   ]
  },
  {
   "cell_type": "markdown",
   "metadata": {},
   "source": [
    "Adding to a dataframe"
   ]
  },
  {
   "cell_type": "code",
   "execution_count": 66,
   "metadata": {},
   "outputs": [],
   "source": [
    "df2['error'] = 0.05 * df2['x^2']"
   ]
  },
  {
   "cell_type": "code",
   "execution_count": 67,
   "metadata": {},
   "outputs": [
    {
     "data": {
      "text/html": [
       "<div>\n",
       "<style scoped>\n",
       "    .dataframe tbody tr th:only-of-type {\n",
       "        vertical-align: middle;\n",
       "    }\n",
       "\n",
       "    .dataframe tbody tr th {\n",
       "        vertical-align: top;\n",
       "    }\n",
       "\n",
       "    .dataframe thead th {\n",
       "        text-align: right;\n",
       "    }\n",
       "</style>\n",
       "<table border=\"1\" class=\"dataframe\">\n",
       "  <thead>\n",
       "    <tr style=\"text-align: right;\">\n",
       "      <th></th>\n",
       "      <th>x</th>\n",
       "      <th>x^2</th>\n",
       "      <th>error</th>\n",
       "    </tr>\n",
       "  </thead>\n",
       "  <tbody>\n",
       "    <tr>\n",
       "      <th>0</th>\n",
       "      <td>0</td>\n",
       "      <td>0.000000</td>\n",
       "      <td>0.000000</td>\n",
       "    </tr>\n",
       "    <tr>\n",
       "      <th>1</th>\n",
       "      <td>1</td>\n",
       "      <td>3.810421</td>\n",
       "      <td>0.190521</td>\n",
       "    </tr>\n",
       "    <tr>\n",
       "      <th>2</th>\n",
       "      <td>2</td>\n",
       "      <td>20.233143</td>\n",
       "      <td>1.011657</td>\n",
       "    </tr>\n",
       "    <tr>\n",
       "      <th>3</th>\n",
       "      <td>3</td>\n",
       "      <td>32.235748</td>\n",
       "      <td>1.611787</td>\n",
       "    </tr>\n",
       "    <tr>\n",
       "      <th>4</th>\n",
       "      <td>4</td>\n",
       "      <td>40.210318</td>\n",
       "      <td>2.010516</td>\n",
       "    </tr>\n",
       "    <tr>\n",
       "      <th>5</th>\n",
       "      <td>5</td>\n",
       "      <td>74.427271</td>\n",
       "      <td>3.721364</td>\n",
       "    </tr>\n",
       "    <tr>\n",
       "      <th>6</th>\n",
       "      <td>6</td>\n",
       "      <td>122.221986</td>\n",
       "      <td>6.111099</td>\n",
       "    </tr>\n",
       "    <tr>\n",
       "      <th>7</th>\n",
       "      <td>7</td>\n",
       "      <td>230.994326</td>\n",
       "      <td>11.549716</td>\n",
       "    </tr>\n",
       "    <tr>\n",
       "      <th>8</th>\n",
       "      <td>8</td>\n",
       "      <td>252.186773</td>\n",
       "      <td>12.609339</td>\n",
       "    </tr>\n",
       "    <tr>\n",
       "      <th>9</th>\n",
       "      <td>9</td>\n",
       "      <td>353.284183</td>\n",
       "      <td>17.664209</td>\n",
       "    </tr>\n",
       "  </tbody>\n",
       "</table>\n",
       "</div>"
      ],
      "text/plain": [
       "   x         x^2      error\n",
       "0  0    0.000000   0.000000\n",
       "1  1    3.810421   0.190521\n",
       "2  2   20.233143   1.011657\n",
       "3  3   32.235748   1.611787\n",
       "4  4   40.210318   2.010516\n",
       "5  5   74.427271   3.721364\n",
       "6  6  122.221986   6.111099\n",
       "7  7  230.994326  11.549716\n",
       "8  8  252.186773  12.609339\n",
       "9  9  353.284183  17.664209"
      ]
     },
     "execution_count": 67,
     "metadata": {},
     "output_type": "execute_result"
    }
   ],
   "source": [
    "df2[:10]"
   ]
  },
  {
   "cell_type": "code",
   "execution_count": 68,
   "metadata": {},
   "outputs": [
    {
     "data": {
      "text/plain": [
       "<ErrorbarContainer object of 3 artists>"
      ]
     },
     "execution_count": 68,
     "metadata": {},
     "output_type": "execute_result"
    },
    {
     "data": {
      "image/png": "[encoded data removed]",
      "text/plain": [
       "<Figure size 432x288 with 1 Axes>"
      ]
     },
     "metadata": {
      "needs_background": "light"
     },
     "output_type": "display_data"
    }
   ],
   "source": [
    "plt.errorbar(df2['x'],df2['x^2'],yerr=df2['error'], fmt='.k')"
   ]
  },
  {
   "cell_type": "code",
   "execution_count": 69,
   "metadata": {},
   "outputs": [
    {
     "data": {
      "text/plain": [
       "<matplotlib.legend.Legend at 0x7fcb52338cd0>"
      ]
     },
     "execution_count": 69,
     "metadata": {},
     "output_type": "execute_result"
    },
    {
     "data": {
      "image/png": "[encoded data removed]",
      "text/plain": [
       "<Figure size 432x288 with 1 Axes>"
      ]
     },
     "metadata": {
      "needs_background": "light"
     },
     "output_type": "display_data"
    }
   ],
   "source": [
    "plt.scatter(df2['x'],df2['x^2'],s=20, label='x^2')\n",
    "plt.fill_between(df2['x'], df2['x^2']-df2['error'], df2['x^2']+df2['error'], color=\"b\", alpha=0.2, label='error')\n",
    "plt.legend()"
   ]
  },
  {
   "cell_type": "code",
   "execution_count": 70,
   "metadata": {},
   "outputs": [
    {
     "data": {
      "text/plain": [
       "<matplotlib.axes._subplots.AxesSubplot at 0x7fcb523e7550>"
      ]
     },
     "execution_count": 70,
     "metadata": {},
     "output_type": "execute_result"
    },
    {
     "data": {
      "image/png": "[encoded data removed]",
      "text/plain": [
       "<Figure size 432x288 with 1 Axes>"
      ]
     },
     "metadata": {
      "needs_background": "light"
     },
     "output_type": "display_data"
    }
   ],
   "source": [
    "# plotting a subset\n",
    "df2[:20].plot.scatter('x','x^2')"
   ]
  },
  {
   "cell_type": "markdown",
   "metadata": {},
   "source": [
    "For more on pandas see: https://pandas.pydata.org/pandas-docs/stable/user_guide/10min.html\n",
    "\n",
    "and for plotting: https://pandas.pydata.org/pandas-docs/stable/user_guide/visualization.html"
   ]
  },
  {
   "cell_type": "markdown",
   "metadata": {},
   "source": [
    "Generally matplotlib allows for more control over plotting. Pandas builtin plotting is useful for when you need to quickly visualize data, whereas matplotlib is good for when you need polished detailed plots for presentation.\n",
    "\n",
    "To see more on matplotlib see: https://matplotlib.org/stable/tutorials/introductory/pyplot.html"
   ]
  },
  {
   "cell_type": "markdown",
   "metadata": {},
   "source": [
    "# Scipy and numerical routines"
   ]
  },
  {
   "cell_type": "markdown",
   "metadata": {},
   "source": [
    "## Curve fitting"
   ]
  },
  {
   "cell_type": "code",
   "execution_count": 71,
   "metadata": {},
   "outputs": [],
   "source": [
    "from scipy.optimize import curve_fit"
   ]
  },
  {
   "cell_type": "code",
   "execution_count": 72,
   "metadata": {},
   "outputs": [],
   "source": [
    "def model(x, a, b):\n",
    "    return  (a*x)**2 + b"
   ]
  },
  {
   "cell_type": "code",
   "execution_count": 73,
   "metadata": {},
   "outputs": [],
   "source": [
    "x = np.linspace(0,20,50)\n",
    "error = 10*np.random.default_rng().normal(size=x.size)\n",
    "y = model(x, 2,10) + error"
   ]
  },
  {
   "cell_type": "code",
   "execution_count": 74,
   "metadata": {},
   "outputs": [
    {
     "data": {
      "text/plain": [
       "<matplotlib.collections.PathCollection at 0x7fcb51405d90>"
      ]
     },
     "execution_count": 74,
     "metadata": {},
     "output_type": "execute_result"
    },
    {
     "data": {
      "image/png": "[encoded data removed]",
      "text/plain": [
       "<Figure size 432x288 with 1 Axes>"
      ]
     },
     "metadata": {
      "needs_background": "light"
     },
     "output_type": "display_data"
    }
   ],
   "source": [
    "plt.scatter(x,y)"
   ]
  },
  {
   "cell_type": "code",
   "execution_count": 75,
   "metadata": {},
   "outputs": [],
   "source": [
    "popt, popc = curve_fit(model, x,y, sigma=error)"
   ]
  },
  {
   "cell_type": "code",
   "execution_count": 76,
   "metadata": {},
   "outputs": [
    {
     "data": {
      "text/plain": [
       "array([ 1.99906961, 10.58160395])"
      ]
     },
     "execution_count": 76,
     "metadata": {},
     "output_type": "execute_result"
    }
   ],
   "source": [
    "popt"
   ]
  },
  {
   "cell_type": "code",
   "execution_count": 77,
   "metadata": {},
   "outputs": [
    {
     "data": {
      "text/plain": [
       "<matplotlib.legend.Legend at 0x7fcb4cea3210>"
      ]
     },
     "execution_count": 77,
     "metadata": {},
     "output_type": "execute_result"
    },
    {
     "data": {
      "image/png": "[encoded data removed]",
      "text/plain": [
       "<Figure size 432x288 with 1 Axes>"
      ]
     },
     "metadata": {
      "needs_background": "light"
     },
     "output_type": "display_data"
    }
   ],
   "source": [
    "plt.scatter(x, y, s=8, label='Data')\n",
    "#plt.fill_between(x, y+error, y-error, color=\"b\", alpha=0.2, label='error')\n",
    "plt.plot(x,model(x,popt[0],popt[1]), color='r', linestyle='--', label= 'a = ' + str('%.2f' %popt[0]) + ', b = ' + str('%.2f' %popt[1]))\n",
    "plt.xlabel('x')\n",
    "plt.ylabel('y')\n",
    "plt.legend()"
   ]
  },
  {
   "cell_type": "markdown",
   "metadata": {},
   "source": [
    "## Calculus"
   ]
  },
  {
   "cell_type": "code",
   "execution_count": 78,
   "metadata": {},
   "outputs": [],
   "source": [
    "import scipy.integrate as integrate"
   ]
  },
  {
   "cell_type": "markdown",
   "metadata": {},
   "source": [
    "Model\"\n",
    "\n",
    "$$ f(x) = \\int_{0}^{20} (2x)^2 + 10 $$"
   ]
  },
  {
   "cell_type": "markdown",
   "metadata": {},
   "source": [
    "Analytical solution:\n",
    "\n",
    "$$  \\frac{4x}{3}^{3} + 10x |_{0}^{20}$$\n",
    "\n",
    "$$ = 10866.66 $$\n",
    "\n",
    "Numerically using scipy quad function:"
   ]
  },
  {
   "cell_type": "code",
   "execution_count": 79,
   "metadata": {},
   "outputs": [
    {
     "data": {
      "text/plain": [
       "(10866.666666666664, 1.2064423534260033e-10)"
      ]
     },
     "execution_count": 79,
     "metadata": {},
     "output_type": "execute_result"
    }
   ],
   "source": [
    "integrate.quad(lambda x: model(x, 2, 10), 0, 20)"
   ]
  },
  {
   "cell_type": "markdown",
   "metadata": {},
   "source": [
    "For double and triple integrals see: https://docs.scipy.org/doc/scipy/reference/tutorial/integrate.html"
   ]
  },
  {
   "cell_type": "code",
   "execution_count": 80,
   "metadata": {},
   "outputs": [],
   "source": [
    "from scipy.integrate import odeint"
   ]
  },
  {
   "cell_type": "markdown",
   "metadata": {},
   "source": [
    "Simple differential equation:\n",
    "\n",
    "$$ \\frac{dy}{dt} = -k y(t) $$\n",
    "\n",
    "Analytic solution:\n",
    "\n",
    "$$  y(t) = y_0 e^{-kt} $$\n",
    "\n",
    "Numerically:"
   ]
  },
  {
   "cell_type": "code",
   "execution_count": 81,
   "metadata": {},
   "outputs": [
    {
     "data": {
      "text/plain": [
       "<matplotlib.legend.Legend at 0x7fcb51632d90>"
      ]
     },
     "execution_count": 81,
     "metadata": {},
     "output_type": "execute_result"
    },
    {
     "data": {
      "image/png": "[encoded data removed]",
      "text/plain": [
       "<Figure size 432x288 with 1 Axes>"
      ]
     },
     "metadata": {
      "needs_background": "light"
     },
     "output_type": "display_data"
    }
   ],
   "source": [
    "# function that returns dy/dt\n",
    "def ode(y, t):\n",
    "    k = 2\n",
    "    dydt = -k * y\n",
    "    return dydt\n",
    "\n",
    "# Inititial conditions\n",
    "y0 = 10\n",
    "\n",
    "# time steps\n",
    "t = np.linspace(0,5, 50)\n",
    "\n",
    "# solving with ideint\n",
    "y = odeint(ode, y0, t)\n",
    "\n",
    "plt.scatter(t, y, s=10, label='odeint solution')\n",
    "plt.plot(t, 10*np.exp(-2*t), color='r', linestyle='-', label='Analytic solution')\n",
    "plt.legend()"
   ]
  },
  {
   "cell_type": "markdown",
   "metadata": {},
   "source": [
    "Scipy can also do interpolations, Fourier transforms, linear algebra, statistics and more. \n",
    "See the following link for tutorials on each topic: https://docs.scipy.org/doc/scipy/reference/tutorial/index.html"
   ]
  },
  {
   "cell_type": "markdown",
   "metadata": {},
   "source": [
    "# Tips"
   ]
  },
  {
   "cell_type": "code",
   "execution_count": 82,
   "metadata": {},
   "outputs": [
    {
     "name": "stdout",
     "output_type": "stream",
     "text": [
      "1 2\n",
      "2 1\n"
     ]
    }
   ],
   "source": [
    "# multi assignment \n",
    "x, y = 1, 2\n",
    "print(x,y)\n",
    "# reverse order\n",
    "x, y = y, x\n",
    "print(x,y)"
   ]
  },
  {
   "cell_type": "code",
   "execution_count": 83,
   "metadata": {},
   "outputs": [
    {
     "name": "stdout",
     "output_type": "stream",
     "text": [
      "1 2 3\n"
     ]
    }
   ],
   "source": [
    "# variable assignment from collections\n",
    "var = [1,2,3]\n",
    "x,y,z = var\n",
    "print(x,y,z)"
   ]
  },
  {
   "cell_type": "code",
   "execution_count": 84,
   "metadata": {},
   "outputs": [
    {
     "name": "stdout",
     "output_type": "stream",
     "text": [
      "1 2 [1, 2]\n"
     ]
    }
   ],
   "source": [
    "# multi returning functions \n",
    "def multi():\n",
    "    return 1, 2, [1,2]\n",
    "a,b,c = multi()\n",
    "\n",
    "print(a,b,c)"
   ]
  },
  {
   "cell_type": "code",
   "execution_count": 85,
   "metadata": {},
   "outputs": [
    {
     "name": "stdout",
     "output_type": "stream",
     "text": [
      "6\n",
      "28\n"
     ]
    }
   ],
   "source": [
    "# argument unpacking \n",
    "def add(a,b,c):\n",
    "    return a + b + c\n",
    "print(add(1,2,3))\n",
    "\n",
    "# *args adds flexibility \n",
    "def add2(*args):\n",
    "    total = 0\n",
    "    for i in args:\n",
    "        total += i \n",
    "    return total\n",
    "print(add2(1,2,3,4,5,6,7))"
   ]
  },
  {
   "cell_type": "code",
   "execution_count": 86,
   "metadata": {},
   "outputs": [
    {
     "name": "stdout",
     "output_type": "stream",
     "text": [
      "Adam is 25 years old\n"
     ]
    }
   ],
   "source": [
    "# f strings \n",
    "name = 'Adam'\n",
    "age = 25\n",
    "\n",
    "print(f\"{name} is {age} years old\")"
   ]
  },
  {
   "cell_type": "code",
   "execution_count": 87,
   "metadata": {},
   "outputs": [
    {
     "name": "stdout",
     "output_type": "stream",
     "text": [
      "Pi is approximately 3.14\n"
     ]
    }
   ],
   "source": [
    "# rounding with strings \n",
    "print('Pi is approximately ' + str('%.2f' %np.pi) )"
   ]
  },
  {
   "cell_type": "markdown",
   "metadata": {},
   "source": [
    "# Examples"
   ]
  },
  {
   "cell_type": "code",
   "execution_count": null,
   "metadata": {},
   "outputs": [],
   "source": [
    "Series, taylor expansions. "
   ]
  },
  {
   "cell_type": "markdown",
   "metadata": {},
   "source": [
    "## Example 1: Partial Sums"
   ]
  },
  {
   "cell_type": "markdown",
   "metadata": {},
   "source": [
    "Problem 1.6.10 from Boas:\n",
    "\n",
    "Use the integral test to determine whether the following series converges:\n",
    "\n",
    " $$ \\sum_{n=1}^{\\infty} \\frac{e^{n}}{e^{2n}+9}$$\n",
    "\n",
    "Say you don't know how to integral this analytically and you want to plot the series to get a sense whether it converges or not. We can directly compute the series and plot it to understand its behavior as n approaches $\\infty$.\n",
    "\n",
    "We cant represent infinity, but we can use computer speed to compute partial sums faster than we can by hand"
   ]
  },
  {
   "cell_type": "code",
   "execution_count": 246,
   "metadata": {},
   "outputs": [
    {
     "data": {
      "text/plain": [
       "0.35966058264111833"
      ]
     },
     "execution_count": 246,
     "metadata": {},
     "output_type": "execute_result"
    }
   ],
   "source": [
    "# define a function that represents the summand \n",
    "\n",
    "def a_n(n_max):\n",
    "    series = []\n",
    "    for n in range(1, n_max+1):\n",
    "        summand = np.exp(n)/(np.exp(2*n)+9)\n",
    "        series.append(summand)\n",
    "    return series\n",
    "\n",
    "sum(a_n(50))\n",
    "#a_n(10)"
   ]
  },
  {
   "cell_type": "code",
   "execution_count": 248,
   "metadata": {},
   "outputs": [
    {
     "data": {
      "image/png": "[encoded data removed]",
      "text/plain": [
       "<Figure size 432x288 with 1 Axes>"
      ]
     },
     "metadata": {
      "needs_background": "light"
     },
     "output_type": "display_data"
    },
    {
     "data": {
      "image/png": "[encoded data removed]",
      "text/plain": [
       "<Figure size 432x288 with 1 Axes>"
      ]
     },
     "metadata": {
      "needs_background": "light"
     },
     "output_type": "display_data"
    },
    {
     "data": {
      "image/png": "[encoded data removed]",
      "text/plain": [
       "<Figure size 432x288 with 1 Axes>"
      ]
     },
     "metadata": {
      "needs_background": "light"
     },
     "output_type": "display_data"
    },
    {
     "data": {
      "image/png": "[encoded data removed]",
      "text/plain": [
       "<Figure size 432x288 with 1 Axes>"
      ]
     },
     "metadata": {
      "needs_background": "light"
     },
     "output_type": "display_data"
    },
    {
     "data": {
      "text/plain": [
       "<Figure size 432x288 with 0 Axes>"
      ]
     },
     "metadata": {},
     "output_type": "display_data"
    }
   ],
   "source": [
    "n_list = [5, 10, 50, 100]\n",
    "\n",
    "for n in n_list:\n",
    "    x = range(1,n+1)\n",
    "    y = a_n(n)\n",
    "    plt.scatter(x,y)\n",
    "    plt.plot(x,y)\n",
    "    plt.title('Summand for n = 1 to n = ' + str(n))\n",
    "    plt.xlabel('n')\n",
    "    plt.ylabel('Partial Sum')\n",
    "    plt.show()\n",
    "    plt.clf()"
   ]
  },
  {
   "cell_type": "markdown",
   "metadata": {},
   "source": [
    "There are many differnt ways to get the same answer. Try some others!"
   ]
  },
  {
   "cell_type": "markdown",
   "metadata": {},
   "source": [
    "## Example 2: Taylor Series Exansion of sin(x)"
   ]
  },
  {
   "cell_type": "markdown",
   "metadata": {},
   "source": [
    "The closed form Taylor series for $sin(x)$ is:\n",
    "\n",
    "$$ sin(x) = \\sum_{n = 0}^{\\infty} (-1)^n \\frac{x^{2n+1}}{(2n+1)!}$$\n",
    "\n",
    "Calculate the partial sums for higher order approximations of $sin(x)$ and plot them against $sin(x)$"
   ]
  },
  {
   "cell_type": "code",
   "execution_count": 135,
   "metadata": {},
   "outputs": [],
   "source": [
    "from numpy import *"
   ]
  },
  {
   "cell_type": "code",
   "execution_count": 237,
   "metadata": {},
   "outputs": [],
   "source": [
    "# plot sinx and then plot the Taylor seiers for sinx for n = 1,2,3,4,5,7,10\n",
    "\n",
    "th = np.arange(-1.5*np.pi, 1.5*np.pi, 0.1)\n",
    "\n",
    "sinx = np.sin(th)\n",
    "\n",
    "# function or lambda function?"
   ]
  },
  {
   "cell_type": "markdown",
   "metadata": {},
   "source": [
    "Plot the difference for n=6 approximation and sin(x)"
   ]
  },
  {
   "cell_type": "code",
   "execution_count": 215,
   "metadata": {},
   "outputs": [],
   "source": []
  },
  {
   "cell_type": "code",
   "execution_count": null,
   "metadata": {},
   "outputs": [],
   "source": []
  },
  {
   "cell_type": "code",
   "execution_count": null,
   "metadata": {},
   "outputs": [],
   "source": []
  }
 ],
 "metadata": {
  "kernelspec": {
   "display_name": "Python 3",
   "language": "python",
   "name": "python3"
  },
  "language_info": {
   "codemirror_mode": {
    "name": "ipython",
    "version": 3
   },
   "file_extension": ".py",
   "mimetype": "text/x-python",
   "name": "python",
   "nbconvert_exporter": "python",
   "pygments_lexer": "ipython3",
   "version": "3.7.6"
  },
  "toc": {
   "base_numbering": 1,
   "nav_menu": {},
   "number_sections": true,
   "sideBar": true,
   "skip_h1_title": false,
   "title_cell": "Table of Contents",
   "title_sidebar": "Contents",
   "toc_cell": false,
   "toc_position": {
    "height": "calc(100% - 180px)",
    "left": "10px",
    "top": "150px",
    "width": "165px"
   },
   "toc_section_display": true,
   "toc_window_display": true
  }
 },
 "nbformat": 4,
 "nbformat_minor": 4
}
